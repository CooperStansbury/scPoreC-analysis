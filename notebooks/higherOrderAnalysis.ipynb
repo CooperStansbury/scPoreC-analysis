{
 "cells": [
  {
   "cell_type": "code",
   "execution_count": 1,
   "metadata": {},
   "outputs": [],
   "source": [
    "import pandas as pd\n",
    "import numpy as np\n",
    "import cooler\n",
    "import matplotlib.pyplot as plt\n",
    "import matplotlib.colors\n",
    "from matplotlib.patches import Patch\n",
    "from matplotlib.offsetbox import AnchoredText\n",
    "import scipy.io\n",
    "from scipy.sparse import csgraph\n",
    "from sklearn.metrics.pairwise import pairwise_distances\n",
    "from scipy.linalg import toeplitz\n",
    "import seaborn as sns\n",
    "\n",
    "from sklearn.decomposition import PCA\n",
    "from scipy import stats\n",
    "import networkx as nx\n",
    "from sklearn.metrics import jaccard_score\n",
    "\n",
    "import os\n",
    "import sys\n",
    "from importlib import reload\n",
    "\n",
    "import filters\n",
    "import imputation\n",
    "import pore_c_utils as pcu\n",
    "import binning_utils as binning\n",
    "import plotting as hicPlot\n",
    "import spectral"
   ]
  },
  {
   "cell_type": "code",
   "execution_count": 2,
   "metadata": {},
   "outputs": [],
   "source": [
    "assembly = pcu.loadAssembly(\"GRCm39_Assembly.txt\")\n",
    "\n",
    "chromDict = dict(zip(assembly['RefSeq accession'],assembly['Chromosome'].apply(lambda x : f\"chr{x}\")))\n",
    "\n",
    "# the reverse for easy lookup\n",
    "chromDict_r = {v: k for k, v in chromDict.items()}\n",
    "chromOrder = list(chromDict.values())"
   ]
  },
  {
   "cell_type": "code",
   "execution_count": 3,
   "metadata": {},
   "outputs": [
    {
     "name": "stderr",
     "output_type": "stream",
     "text": [
      "/sw/arcts/centos7/python3.8-anaconda/2020.07/lib/python3.8/site-packages/IPython/core/interactiveshell.py:3343: DtypeWarning: Columns (39,45) have mixed types.Specify dtype option on import or set low_memory=False.\n",
      "  exec(code_obj, self.user_global_ns, self.user_ns)\n"
     ]
    },
    {
     "name": "stdout",
     "output_type": "stream",
     "text": [
      "df.shape=(286943, 66)\n"
     ]
    }
   ],
   "source": [
    "filepath = \"filtered_data/adjacent1MBfiltered.csv\"\n",
    "\n",
    "df = pd.read_csv(filepath)\n",
    "print(f\"{df.shape=}\")"
   ]
  },
  {
   "cell_type": "code",
   "execution_count": 4,
   "metadata": {},
   "outputs": [
    {
     "name": "stdout",
     "output_type": "stream",
     "text": [
      "done.\n"
     ]
    }
   ],
   "source": [
    "df['order'] = df.groupby(['cell', 'read_name'])['read_name'].transform(\"count\")\n",
    "print('done.')"
   ]
  },
  {
   "cell_type": "code",
   "execution_count": 5,
   "metadata": {},
   "outputs": [],
   "source": [
    "# plt.rcParams['figure.dpi'] = 200\n",
    "\n",
    "\n",
    "# # for cell in df['cell'].unique():\n",
    "# #     tmp = df[(df['cell'] == cell)].reset_index(drop=True)\n",
    "# #     print(f\"{cell=} {tmp['order'].max()=} {tmp['order'].min()=}\")\n",
    "    \n",
    "# #     sns.kdeplot(tmp['order'], bw=0.5)\n",
    "    \n",
    "    \n",
    "# #     plt.hist(tmp['order'], edgecolor='k', bins=30, label=cell, alpha=0.7)\n",
    "    \n",
    "\n",
    "    "
   ]
  },
  {
   "cell_type": "code",
   "execution_count": null,
   "metadata": {},
   "outputs": [],
   "source": []
  },
  {
   "cell_type": "code",
   "execution_count": null,
   "metadata": {},
   "outputs": [],
   "source": []
  },
  {
   "cell_type": "code",
   "execution_count": null,
   "metadata": {},
   "outputs": [],
   "source": []
  },
  {
   "cell_type": "code",
   "execution_count": null,
   "metadata": {},
   "outputs": [],
   "source": []
  },
  {
   "cell_type": "code",
   "execution_count": 6,
   "metadata": {},
   "outputs": [
    {
     "ename": "NameError",
     "evalue": "name 'cellAdjBinned' is not defined",
     "output_type": "error",
     "traceback": [
      "\u001b[0;31m---------------------------------------------------------------------------\u001b[0m",
      "\u001b[0;31mNameError\u001b[0m                                 Traceback (most recent call last)",
      "\u001b[0;32m<ipython-input-6-84132ede84d8>\u001b[0m in \u001b[0;36m<module>\u001b[0;34m\u001b[0m\n\u001b[1;32m     13\u001b[0m     \u001b[0mcellBinned\u001b[0m \u001b[0;34m=\u001b[0m \u001b[0mbinning\u001b[0m\u001b[0;34m.\u001b[0m\u001b[0mwholeGenomeBinData\u001b[0m\u001b[0;34m(\u001b[0m\u001b[0mcellDf\u001b[0m\u001b[0;34m,\u001b[0m \u001b[0mbins\u001b[0m\u001b[0;34m,\u001b[0m \u001b[0mlabel1\u001b[0m\u001b[0;34m,\u001b[0m \u001b[0mlabel2\u001b[0m\u001b[0;34m)\u001b[0m\u001b[0;34m\u001b[0m\u001b[0;34m\u001b[0m\u001b[0m\n\u001b[1;32m     14\u001b[0m \u001b[0;34m\u001b[0m\u001b[0m\n\u001b[0;32m---> 15\u001b[0;31m     \u001b[0mAadj\u001b[0m \u001b[0;34m=\u001b[0m \u001b[0mpcu\u001b[0m\u001b[0;34m.\u001b[0m\u001b[0mgetHic\u001b[0m\u001b[0;34m(\u001b[0m\u001b[0mcellAdjBinned\u001b[0m\u001b[0;34m,\u001b[0m \u001b[0mbins\u001b[0m\u001b[0;34m,\u001b[0m \u001b[0mlabel1\u001b[0m\u001b[0;34m,\u001b[0m \u001b[0mlabel2\u001b[0m\u001b[0;34m)\u001b[0m\u001b[0;34m\u001b[0m\u001b[0;34m\u001b[0m\u001b[0m\n\u001b[0m\u001b[1;32m     16\u001b[0m     \u001b[0mAexp\u001b[0m \u001b[0;34m=\u001b[0m \u001b[0mpcu\u001b[0m\u001b[0;34m.\u001b[0m\u001b[0mgetHic\u001b[0m\u001b[0;34m(\u001b[0m\u001b[0mcellExpBinned\u001b[0m\u001b[0;34m,\u001b[0m \u001b[0mbins\u001b[0m\u001b[0;34m,\u001b[0m \u001b[0mlabel1\u001b[0m\u001b[0;34m,\u001b[0m \u001b[0mlabel2\u001b[0m\u001b[0;34m)\u001b[0m\u001b[0;34m\u001b[0m\u001b[0;34m\u001b[0m\u001b[0m\n\u001b[1;32m     17\u001b[0m \u001b[0;34m\u001b[0m\u001b[0m\n",
      "\u001b[0;31mNameError\u001b[0m: name 'cellAdjBinned' is not defined"
     ]
    }
   ],
   "source": [
    "resolution = 1000000 # 1mb scale\n",
    "\n",
    "totalLength = assembly['chromEnd'].max()\n",
    "bins = binning.getBins(totalLength, resolution)\n",
    "\n",
    "label1 = 'bin1'\n",
    "label2 = 'bin2'\n",
    "\n",
    "\n",
    "for cell in df['cell'].unique():\n",
    "    \n",
    "    cellDf = df[(df['cell'] == cell)].reset_index(drop=True)\n",
    "    \n",
    "    \n",
    "#     cellBinned = binning.wholeGenomeBinData(cellDf, bins, label1, label2)\n",
    "    \n",
    "#     Aadj = pcu.getHic(cellAdjBinned, bins, label1, label2)\n",
    "#     Aexp = pcu.getHic(cellExpBinned, bins, label1, label2)\n",
    "    \n",
    "#     print(f\"{cell=} {Aadj.shape=} {Aexp.shape=}\")\n",
    "    \n",
    "#     adj1mb[cell] = Aadj\n",
    "#     exp1mb[cell] = Aexp\n",
    "    \n",
    "# print('done.')"
   ]
  },
  {
   "cell_type": "code",
   "execution_count": null,
   "metadata": {},
   "outputs": [],
   "source": [
    "newRows = []\n",
    "\n",
    "for idx, row in assembly.iterrows():\n",
    "    if \"NC\" in row['RefSeq accession']:\n",
    "        \n",
    "        start = binning.returnBin(row['chromStart'], bins) + 2\n",
    "        end = binning.returnBin(row['chromEnd'], bins) + 3\n",
    "        \n",
    "        newRow = {\n",
    "            'region' : f\"chr{row['Chromosome']}\",\n",
    "            'start' : start,\n",
    "            'end' : end,\n",
    "            'length' : end - start,\n",
    "        }\n",
    "        \n",
    "        newRows.append(newRow)\n",
    "        \n",
    "filteredChromInfo = pd.DataFrame(newRows)\n",
    "\n",
    "filteredPoreCIndex = list(range(0, len(adj1mb['run01'])))"
   ]
  },
  {
   "cell_type": "code",
   "execution_count": null,
   "metadata": {},
   "outputs": [],
   "source": []
  }
 ],
 "metadata": {
  "kernelspec": {
   "display_name": "Python 3",
   "language": "python",
   "name": "python3"
  },
  "language_info": {
   "codemirror_mode": {
    "name": "ipython",
    "version": 3
   },
   "file_extension": ".py",
   "mimetype": "text/x-python",
   "name": "python",
   "nbconvert_exporter": "python",
   "pygments_lexer": "ipython3",
   "version": "3.8.3"
  }
 },
 "nbformat": 4,
 "nbformat_minor": 4
}
