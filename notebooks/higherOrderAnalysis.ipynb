{
 "cells": [
  {
   "cell_type": "code",
   "execution_count": 1,
   "metadata": {},
   "outputs": [],
   "source": [
    "import pandas as pd\n",
    "import numpy as np\n",
    "import cooler\n",
    "import matplotlib.pyplot as plt\n",
    "import matplotlib.colors\n",
    "from matplotlib.patches import Patch\n",
    "from matplotlib.offsetbox import AnchoredText\n",
    "import scipy.io\n",
    "from scipy.sparse import csgraph\n",
    "from sklearn.metrics.pairwise import pairwise_distances\n",
    "from scipy.linalg import toeplitz\n",
    "\n",
    "from sklearn.decomposition import PCA\n",
    "from scipy import stats\n",
    "import networkx as nx\n",
    "from sklearn.metrics import jaccard_score\n",
    "\n",
    "import os\n",
    "import sys\n",
    "from importlib import reload\n",
    "\n",
    "import filters\n",
    "import imputation\n",
    "import pore_c_utils as pcu\n",
    "import binning_utils as binning\n",
    "import plotting as hicPlot\n",
    "import spectral"
   ]
  },
  {
   "cell_type": "code",
   "execution_count": 2,
   "metadata": {},
   "outputs": [],
   "source": [
    "assembly = pcu.loadAssembly(\"GRCm39_Assembly.txt\")\n",
    "\n",
    "chromDict = dict(zip(assembly['RefSeq accession'],assembly['Chromosome'].apply(lambda x : f\"chr{x}\")))\n",
    "\n",
    "# the reverse for easy lookup\n",
    "chromDict_r = {v: k for k, v in chromDict.items()}\n",
    "chromOrder = list(chromDict.values())"
   ]
  },
  {
   "cell_type": "code",
   "execution_count": 3,
   "metadata": {},
   "outputs": [
    {
     "name": "stderr",
     "output_type": "stream",
     "text": [
      "/sw/arcts/centos7/python3.8-anaconda/2020.07/lib/python3.8/site-packages/IPython/core/interactiveshell.py:3343: DtypeWarning: Columns (39) have mixed types.Specify dtype option on import or set low_memory=False.\n",
      "  exec(code_obj, self.user_global_ns, self.user_ns)\n"
     ]
    },
    {
     "name": "stdout",
     "output_type": "stream",
     "text": [
      "df.shape=(636130, 65)\n",
      "\n",
      "filteredCells.keys()=dict_keys(['run01', 'run02', 'run04', 'run05', 'run06', 'run07'])\n"
     ]
    }
   ],
   "source": [
    "filepath = \"filtered_data/clique1MBfiltered.csv\"\n",
    "\n",
    "df = pd.read_csv(filepath)\n",
    "print(f\"{df.shape=}\")\n",
    "\n",
    "filteredCells = {}\n",
    "\n",
    "for runId in df['cell'].unique():\n",
    "    tmp = df[df['cell'] == runId]\n",
    "    filteredCells[runId] = tmp.reset_index(drop=True)\n",
    "    \n",
    "\n",
    "print(f\"\\n{filteredCells.keys()=}\")"
   ]
  },
  {
   "cell_type": "code",
   "execution_count": null,
   "metadata": {},
   "outputs": [],
   "source": []
  }
 ],
 "metadata": {
  "kernelspec": {
   "display_name": "Python 3",
   "language": "python",
   "name": "python3"
  },
  "language_info": {
   "codemirror_mode": {
    "name": "ipython",
    "version": 3
   },
   "file_extension": ".py",
   "mimetype": "text/x-python",
   "name": "python",
   "nbconvert_exporter": "python",
   "pygments_lexer": "ipython3",
   "version": "3.8.3"
  }
 },
 "nbformat": 4,
 "nbformat_minor": 4
}
