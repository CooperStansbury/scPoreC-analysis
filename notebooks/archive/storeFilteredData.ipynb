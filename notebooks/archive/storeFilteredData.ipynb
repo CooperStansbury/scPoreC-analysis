{
 "cells": [
  {
   "cell_type": "code",
   "execution_count": 1,
   "metadata": {},
   "outputs": [],
   "source": [
    "import pandas as pd\n",
    "import numpy as np\n",
    "import cooler\n",
    "import matplotlib.pyplot as plt\n",
    "import matplotlib.colors\n",
    "from matplotlib.patches import Patch\n",
    "import scipy.io\n",
    "\n",
    "\n",
    "from sklearn.decomposition import PCA\n",
    "from scipy import stats\n",
    "import networkx as nx\n",
    "from sklearn.metrics import jaccard_score\n",
    "\n",
    "import os\n",
    "import sys\n",
    "from importlib import reload\n",
    "\n",
    "import filters\n",
    "import pore_c_utils as pcu\n",
    "import binning_utils as binning\n",
    "import plotting as hicPlot"
   ]
  },
  {
   "cell_type": "code",
   "execution_count": 2,
   "metadata": {},
   "outputs": [
    {
     "data": {
      "text/plain": [
       "['chr1',\n",
       " 'chr2',\n",
       " 'chr3',\n",
       " 'chr4',\n",
       " 'chr5',\n",
       " 'chr6',\n",
       " 'chr7',\n",
       " 'chr8',\n",
       " 'chr9',\n",
       " 'chr10',\n",
       " 'chr11',\n",
       " 'chr12',\n",
       " 'chr13',\n",
       " 'chr14',\n",
       " 'chr15',\n",
       " 'chr16',\n",
       " 'chr17',\n",
       " 'chr18',\n",
       " 'chr19',\n",
       " 'chrX',\n",
       " 'chrY']"
      ]
     },
     "execution_count": 2,
     "metadata": {},
     "output_type": "execute_result"
    }
   ],
   "source": [
    "assembly = pcu.loadAssembly(\"GRCm39_Assembly.txt\")\n",
    "\n",
    "chromDict = dict(zip(assembly['RefSeq accession'],assembly['Chromosome'].apply(lambda x : f\"chr{x}\")))\n",
    "\n",
    "# the reverse for easy lookup\n",
    "chromDict_r = {v: k for k, v in chromDict.items()}\n",
    "\n",
    "chromOrder = list(chromDict.values())\n",
    "chromOrder"
   ]
  },
  {
   "cell_type": "code",
   "execution_count": 3,
   "metadata": {},
   "outputs": [
    {
     "name": "stdout",
     "output_type": "stream",
     "text": [
      "runId='run01' df.shape=(13386738, 38)\n",
      "runId='run02' df.shape=(13046898, 38)\n",
      "runId='run04' df.shape=(20486346, 38)\n",
      "runId='run05' df.shape=(5043403, 38)\n",
      "runId='run06' df.shape=(7310826, 38)\n",
      "runId='run07' df.shape=(10525887, 38)\n",
      "Filtering....\n",
      "\n",
      "filteredCells.keys()=dict_keys(['run01', 'run02', 'run04', 'run05', 'run06', 'run07'])\n"
     ]
    }
   ],
   "source": [
    "# load the filtered pore-C data\n",
    "dirpath = \"/nfs/turbo/umms-indikar/shared/tools/Pore-C-Snakemake/results_ES5to12/contacts/\"\n",
    "cellNums = [1, 2, 4, 5, 6, 7] # dropping cell 3 due to sparsity\n",
    "filetags = [f\"run0{x}\" for x in cellNums]\n",
    "\n",
    "# filetags = [f\"run0{x}\" for x in range(1, 2)]\n",
    "\n",
    "assembly = pcu.loadAssembly(\"GRCm39_Assembly.txt\")\n",
    "rawCells = pcu.loadRawContactDirectory(dirpath, filetags)\n",
    "\n",
    "print(\"Filtering....\")\n",
    "filteredCells = filters.runAllFilters(rawCells,\n",
    "                              assembly,\n",
    "                              adjacent=False,\n",
    "                              chromosome=None, \n",
    "                              verbose=False)  \n",
    "\n",
    "print(f\"\\n{filteredCells.keys()=}\")"
   ]
  },
  {
   "cell_type": "code",
   "execution_count": 4,
   "metadata": {},
   "outputs": [
    {
     "ename": "SyntaxError",
     "evalue": "'break' outside loop (<ipython-input-4-6aaf1f276005>, line 1)",
     "output_type": "error",
     "traceback": [
      "\u001b[0;36m  File \u001b[0;32m\"<ipython-input-4-6aaf1f276005>\"\u001b[0;36m, line \u001b[0;32m1\u001b[0m\n\u001b[0;31m    break\u001b[0m\n\u001b[0m    ^\u001b[0m\n\u001b[0;31mSyntaxError\u001b[0m\u001b[0;31m:\u001b[0m 'break' outside loop\n"
     ]
    }
   ],
   "source": [
    "# break"
   ]
  },
  {
   "cell_type": "code",
   "execution_count": 6,
   "metadata": {},
   "outputs": [
    {
     "name": "stdout",
     "output_type": "stream",
     "text": [
      "(636130, 65)\n",
      "done.\n"
     ]
    }
   ],
   "source": [
    "frames = []\n",
    "\n",
    "for runId, data in filteredCells.items():\n",
    "    \n",
    "    data['cell'] = runId\n",
    "    frames.append(data)\n",
    "    \n",
    "    \n",
    "df = pd.concat(frames)\n",
    "print(f\"{df.shape}\")\n",
    "\n",
    "savepath = \"filtered_data/clique1MBfiltered.csv\"\n",
    "\n",
    "df.to_csv(savepath, index=False)\n",
    "print(\"done.\")"
   ]
  },
  {
   "cell_type": "code",
   "execution_count": 7,
   "metadata": {},
   "outputs": [
    {
     "name": "stderr",
     "output_type": "stream",
     "text": [
      "<ipython-input-7-807c5f01a66c>:3: DtypeWarning: Columns (39) have mixed types.Specify dtype option on import or set low_memory=False.\n",
      "  filteredCells = pcu.filteredDatatoDict(savepath)\n"
     ]
    },
    {
     "data": {
      "text/plain": [
       "dict_keys(['run01', 'run02', 'run04', 'run05', 'run06', 'run07'])"
      ]
     },
     "execution_count": 7,
     "metadata": {},
     "output_type": "execute_result"
    }
   ],
   "source": [
    "reload(pcu)\n",
    "\n",
    "filteredCells = pcu.filteredDatatoDict(savepath)\n",
    "filteredCells.keys()"
   ]
  },
  {
   "cell_type": "code",
   "execution_count": null,
   "metadata": {},
   "outputs": [],
   "source": [
    "newRows = []\n",
    "\n",
    "for idx, row in assembly.iterrows():\n",
    "    if \"NC\" in row['RefSeq accession']:\n",
    "        \n",
    "        start = binning.returnBin(row['chromStart'], bins) + 2\n",
    "        end = binning.returnBin(row['chromEnd'], bins) + 3\n",
    "        \n",
    "        newRow = {\n",
    "            'region' : f\"chr{row['Chromosome']}\",\n",
    "            'start' : start,\n",
    "            'end' : end,\n",
    "            'length' : end - start,\n",
    "        }\n",
    "        \n",
    "        newRows.append(newRow)\n",
    "        \n",
    "filteredChromInfo = pd.DataFrame(newRows)\n",
    "savepath = \"filtered_data/filteredChromInfo.csv\"\n",
    "filteredChromInfo.to_csv(savepath, index='False')\n",
    "print('done.')"
   ]
  },
  {
   "cell_type": "code",
   "execution_count": null,
   "metadata": {},
   "outputs": [],
   "source": []
  }
 ],
 "metadata": {
  "kernelspec": {
   "display_name": "Python 3",
   "language": "python",
   "name": "python3"
  },
  "language_info": {
   "codemirror_mode": {
    "name": "ipython",
    "version": 3
   },
   "file_extension": ".py",
   "mimetype": "text/x-python",
   "name": "python",
   "nbconvert_exporter": "python",
   "pygments_lexer": "ipython3",
   "version": "3.8.3"
  }
 },
 "nbformat": 4,
 "nbformat_minor": 4
}
