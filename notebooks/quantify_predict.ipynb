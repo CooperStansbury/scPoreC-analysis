{
 "cells": [
  {
   "cell_type": "code",
   "execution_count": 2,
   "metadata": {},
   "outputs": [],
   "source": [
    "import pandas as pd\n",
    "import numpy as np\n",
    "import cooler\n",
    "import matplotlib.pyplot as plt\n",
    "import matplotlib.colors\n",
    "from matplotlib.patches import Patch\n",
    "import scipy.io\n",
    "\n",
    "\n",
    "from sklearn.decomposition import PCA\n",
    "from scipy import stats\n",
    "import networkx as nx\n",
    "from sklearn.metrics import jaccard_score\n",
    "\n",
    "import os\n",
    "import sys\n",
    "from importlib import reload\n",
    "\n",
    "import filters\n",
    "import pore_c_utils as pcu\n",
    "import binning_utils as binning\n",
    "import plotting as hicPlot"
   ]
  },
  {
   "cell_type": "code",
   "execution_count": 3,
   "metadata": {},
   "outputs": [
    {
     "data": {
      "text/plain": [
       "['chr1',\n",
       " 'chr2',\n",
       " 'chr3',\n",
       " 'chr4',\n",
       " 'chr5',\n",
       " 'chr6',\n",
       " 'chr7',\n",
       " 'chr8',\n",
       " 'chr9',\n",
       " 'chr10',\n",
       " 'chr11',\n",
       " 'chr12',\n",
       " 'chr13',\n",
       " 'chr14',\n",
       " 'chr15',\n",
       " 'chr16',\n",
       " 'chr17',\n",
       " 'chr18',\n",
       " 'chr19',\n",
       " 'chrX',\n",
       " 'chrY']"
      ]
     },
     "execution_count": 3,
     "metadata": {},
     "output_type": "execute_result"
    }
   ],
   "source": [
    "assembly = pcu.loadAssembly(\"GRCm39_Assembly.txt\")\n",
    "\n",
    "chromDict = dict(zip(assembly['RefSeq accession'],assembly['Chromosome'].apply(lambda x : f\"chr{x}\")))\n",
    "\n",
    "# the reverse for easy lookup\n",
    "chromDict_r = {v: k for k, v in chromDict.items()}\n",
    "\n",
    "chromOrder = list(chromDict.values())\n",
    "chromOrder"
   ]
  },
  {
   "cell_type": "code",
   "execution_count": 4,
   "metadata": {},
   "outputs": [
    {
     "name": "stdout",
     "output_type": "stream",
     "text": [
      "len(cellList)=3882\n"
     ]
    }
   ],
   "source": [
    "scHICfilepath = f\"/nfs/turbo/umms-indikar/shared/projects/poreC/nagano_2017_data/nagano_1MB_raw_BALANCED.scool\"\n",
    "cellList = list(cooler.fileops.list_coolers(scHICfilepath))\n",
    "print(f\"{len(cellList)=}\")"
   ]
  },
  {
   "cell_type": "code",
   "execution_count": 8,
   "metadata": {},
   "outputs": [
    {
     "name": "stdout",
     "output_type": "stream",
     "text": [
      "filetag='Diploid_25' A.shape=(182, 182)\n",
      "filetag='Diploid_7' A.shape=(182, 182)\n",
      "filetag='Diploid_9' A.shape=(182, 182)\n",
      "filetag='Diploid_5' A.shape=(182, 182)\n",
      "filetag='Diploid_13' A.shape=(182, 182)\n",
      "filetag='Diploid_22' A.shape=(182, 182)\n",
      "filetag='Diploid_3' A.shape=(182, 182)\n",
      "filetag='Diploid_8' A.shape=(182, 182)\n",
      "filetag='Diploid_25' A.shape=(182, 182)\n",
      "filetag='Diploid_23' A.shape=(182, 182)\n",
      "filetag='Diploid_21' A.shape=(182, 182)\n",
      "filetag='Diploid_22' A.shape=(182, 182)\n",
      "filetag='Diploid_12' A.shape=(182, 182)\n",
      "filetag='Diploid_7' A.shape=(182, 182)\n",
      "filetag='Diploid_26' A.shape=(182, 182)\n",
      "filetag='Diploid_3' A.shape=(182, 182)\n",
      "filetag='Diploid_14' A.shape=(182, 182)\n",
      "filetag='Diploid_7' A.shape=(182, 182)\n",
      "filetag='Diploid_26' A.shape=(182, 182)\n",
      "filetag='Diploid_32' A.shape=(182, 182)\n",
      "filetag='Diploid_21' A.shape=(182, 182)\n",
      "filetag='Diploid_25' A.shape=(182, 182)\n",
      "filetag='Diploid_7' A.shape=(182, 182)\n",
      "filetag='Diploid_4' A.shape=(182, 182)\n",
      "filetag='Diploid_9' A.shape=(182, 182)\n",
      "done.\n"
     ]
    }
   ],
   "source": [
    "sampleSize = 25\n",
    "chromosome = ['chr2']\n",
    "sample = np.random.choice(cellList, sampleSize, replace=False)\n",
    "\n",
    "hic = {}\n",
    "\n",
    "for s in sample:\n",
    "    filetag = \"_\".join(s.split(\"_\")[0:2]).replace(\"/\", \"\")    \n",
    "    A, hicChromInfo, hicIndex = pcu.loadNagano2017SingleCell(scHICfilepath, s, chromOrder, balance=False)\n",
    "    chrHicInd = pcu.getIndices(hicChromInfo, hicIndex, chromosome, 'region')\n",
    "    \n",
    "    # reindex the matrix\n",
    "    A = A[chrHicInd, :][:, chrHicInd]\n",
    "    print(f\"{filetag=} {A.shape=}\")\n",
    "    \n",
    "    hic[filetag] = A\n",
    "    \n",
    "print('done.')"
   ]
  },
  {
   "cell_type": "code",
   "execution_count": 30,
   "metadata": {},
   "outputs": [
    {
     "name": "stdout",
     "output_type": "stream",
     "text": [
      "done\n"
     ]
    }
   ],
   "source": [
    "retain = 0.001\n",
    "sparseSample = {}\n",
    "\n",
    "\n",
    "for runId, A in hic.items():\n",
    "    \n",
    "    Abinary = np.where(A > 0, 1, 0)\n",
    "    downSampled = Abinary.copy()\n",
    "    contactIndices = np.argwhere(Abinary == 1)\n",
    "    \n",
    "    retainN = int((1-retain) * len(contactIndices) // 2)\n",
    "    \n",
    "    sampleIndices = sorted(np.random.choice(range(len(contactIndices)), retainN, replace=False))\n",
    "    \n",
    "    # remove random contacts \n",
    "    downSampled[contactIndices[sampleIndices, 0], contactIndices[sampleIndices, 1]] = 0\n",
    "    downSampled[contactIndices[sampleIndices, 1], contactIndices[sampleIndices, 0]] = 0\n",
    "#     fig = plt.figure()\n",
    "    \n",
    "#     plt.subplot(121)\n",
    "#     plt.imshow(Abinary, cmap='binary')\n",
    "    \n",
    "#     plt.subplot(122)\n",
    "#     plt.imshow(downSampled, cmap='binary')\n",
    "    sparseSample[runId] = downSampled\n",
    "\n",
    "    \n",
    "\n",
    "print('done')"
   ]
  },
  {
   "cell_type": "code",
   "execution_count": null,
   "metadata": {},
   "outputs": [],
   "source": []
  },
  {
   "cell_type": "code",
   "execution_count": null,
   "metadata": {},
   "outputs": [],
   "source": []
  }
 ],
 "metadata": {
  "kernelspec": {
   "display_name": "Python 3",
   "language": "python",
   "name": "python3"
  },
  "language_info": {
   "codemirror_mode": {
    "name": "ipython",
    "version": 3
   },
   "file_extension": ".py",
   "mimetype": "text/x-python",
   "name": "python",
   "nbconvert_exporter": "python",
   "pygments_lexer": "ipython3",
   "version": "3.8.3"
  }
 },
 "nbformat": 4,
 "nbformat_minor": 4
}
