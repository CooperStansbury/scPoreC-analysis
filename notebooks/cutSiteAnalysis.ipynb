{
 "cells": [
  {
   "cell_type": "code",
   "execution_count": 1,
   "metadata": {},
   "outputs": [],
   "source": [
    "import pandas as pd\n",
    "import numpy as np\n",
    "import cooler\n",
    "import matplotlib.pyplot as plt\n",
    "import matplotlib.colors\n",
    "from matplotlib.patches import Patch\n",
    "import scipy.io\n",
    "import pysam\n",
    "\n",
    "\n",
    "from sklearn.decomposition import PCA\n",
    "from scipy import stats\n",
    "import networkx as nx\n",
    "from sklearn.metrics import jaccard_score\n",
    "\n",
    "import os\n",
    "import sys\n",
    "from importlib import reload\n",
    "\n",
    "import filters\n",
    "import pore_c_utils as pcu\n",
    "import binning_utils as binning\n",
    "import plotting as hicPlot"
   ]
  },
  {
   "cell_type": "code",
   "execution_count": 2,
   "metadata": {},
   "outputs": [
    {
     "name": "stderr",
     "output_type": "stream",
     "text": [
      "/sw/arcts/centos7/python3.8-anaconda/2020.07/lib/python3.8/site-packages/IPython/core/interactiveshell.py:3343: DtypeWarning: Columns (39) have mixed types.Specify dtype option on import or set low_memory=False.\n",
      "  exec(code_obj, self.user_global_ns, self.user_ns)\n"
     ]
    },
    {
     "name": "stdout",
     "output_type": "stream",
     "text": [
      "df.shape=(636130, 65)\n"
     ]
    },
    {
     "data": {
      "text/html": [
       "<div>\n",
       "<style scoped>\n",
       "    .dataframe tbody tr th:only-of-type {\n",
       "        vertical-align: middle;\n",
       "    }\n",
       "\n",
       "    .dataframe tbody tr th {\n",
       "        vertical-align: top;\n",
       "    }\n",
       "\n",
       "    .dataframe thead th {\n",
       "        text-align: right;\n",
       "    }\n",
       "</style>\n",
       "<table border=\"1\" class=\"dataframe\">\n",
       "  <thead>\n",
       "    <tr style=\"text-align: right;\">\n",
       "      <th></th>\n",
       "      <th>index</th>\n",
       "      <th>read_name</th>\n",
       "      <th>read_length</th>\n",
       "      <th>read_idx</th>\n",
       "      <th>contact_is_direct</th>\n",
       "      <th>contact_is_cis</th>\n",
       "      <th>contact_read_distance</th>\n",
       "      <th>contact_genome_distance</th>\n",
       "      <th>contact_fragment_adjacent</th>\n",
       "      <th>contact_fragment_distance</th>\n",
       "      <th>...</th>\n",
       "      <th>align1_absolute_midpoint</th>\n",
       "      <th>align2_absolute_midpoint</th>\n",
       "      <th>mean_mapping_quality</th>\n",
       "      <th>contact_count</th>\n",
       "      <th>align1_fragcount</th>\n",
       "      <th>align2_fragcount</th>\n",
       "      <th>align1_n_reads</th>\n",
       "      <th>align2_n_reads</th>\n",
       "      <th>contact_has_support</th>\n",
       "      <th>cell</th>\n",
       "    </tr>\n",
       "  </thead>\n",
       "  <tbody>\n",
       "    <tr>\n",
       "      <th>0</th>\n",
       "      <td>27771</td>\n",
       "      <td>132f1be4-df3c-4a1f-bc53-40df856b0c42</td>\n",
       "      <td>4312</td>\n",
       "      <td>35703</td>\n",
       "      <td>False</td>\n",
       "      <td>True</td>\n",
       "      <td>1619</td>\n",
       "      <td>11803</td>\n",
       "      <td>False</td>\n",
       "      <td>12375</td>\n",
       "      <td>...</td>\n",
       "      <td>2630943949</td>\n",
       "      <td>2630956324</td>\n",
       "      <td>50.0</td>\n",
       "      <td>1</td>\n",
       "      <td>4</td>\n",
       "      <td>3</td>\n",
       "      <td>NaN</td>\n",
       "      <td>NaN</td>\n",
       "      <td>1</td>\n",
       "      <td>run01</td>\n",
       "    </tr>\n",
       "    <tr>\n",
       "      <th>1</th>\n",
       "      <td>206517</td>\n",
       "      <td>b0e13742-1d17-47d9-a017-668f37b6788f</td>\n",
       "      <td>2616</td>\n",
       "      <td>7786</td>\n",
       "      <td>False</td>\n",
       "      <td>True</td>\n",
       "      <td>1432</td>\n",
       "      <td>714701</td>\n",
       "      <td>False</td>\n",
       "      <td>715354</td>\n",
       "      <td>...</td>\n",
       "      <td>2630229012</td>\n",
       "      <td>2630944366</td>\n",
       "      <td>96.0</td>\n",
       "      <td>1</td>\n",
       "      <td>4</td>\n",
       "      <td>2</td>\n",
       "      <td>NaN</td>\n",
       "      <td>NaN</td>\n",
       "      <td>1</td>\n",
       "      <td>run01</td>\n",
       "    </tr>\n",
       "    <tr>\n",
       "      <th>2</th>\n",
       "      <td>117363</td>\n",
       "      <td>330b862a-138c-48d7-9534-be879100a320</td>\n",
       "      <td>1022</td>\n",
       "      <td>31146</td>\n",
       "      <td>True</td>\n",
       "      <td>True</td>\n",
       "      <td>1</td>\n",
       "      <td>1378</td>\n",
       "      <td>False</td>\n",
       "      <td>1844</td>\n",
       "      <td>...</td>\n",
       "      <td>2630227938</td>\n",
       "      <td>2630229781</td>\n",
       "      <td>49.5</td>\n",
       "      <td>1</td>\n",
       "      <td>3</td>\n",
       "      <td>2</td>\n",
       "      <td>NaN</td>\n",
       "      <td>NaN</td>\n",
       "      <td>1</td>\n",
       "      <td>run01</td>\n",
       "    </tr>\n",
       "    <tr>\n",
       "      <th>3</th>\n",
       "      <td>468866</td>\n",
       "      <td>af44682d-de48-467d-8cd2-f79d45b85f69</td>\n",
       "      <td>1364</td>\n",
       "      <td>36416</td>\n",
       "      <td>True</td>\n",
       "      <td>True</td>\n",
       "      <td>254</td>\n",
       "      <td>729058</td>\n",
       "      <td>False</td>\n",
       "      <td>729603</td>\n",
       "      <td>...</td>\n",
       "      <td>2630227390</td>\n",
       "      <td>2630956993</td>\n",
       "      <td>47.5</td>\n",
       "      <td>1</td>\n",
       "      <td>2</td>\n",
       "      <td>3</td>\n",
       "      <td>NaN</td>\n",
       "      <td>NaN</td>\n",
       "      <td>1</td>\n",
       "      <td>run01</td>\n",
       "    </tr>\n",
       "    <tr>\n",
       "      <th>4</th>\n",
       "      <td>180875</td>\n",
       "      <td>7470a373-22cb-49b2-a0df-9e5279d9559c</td>\n",
       "      <td>3386</td>\n",
       "      <td>7678</td>\n",
       "      <td>False</td>\n",
       "      <td>True</td>\n",
       "      <td>866</td>\n",
       "      <td>716159</td>\n",
       "      <td>False</td>\n",
       "      <td>716559</td>\n",
       "      <td>...</td>\n",
       "      <td>2630227390</td>\n",
       "      <td>2630943949</td>\n",
       "      <td>50.5</td>\n",
       "      <td>1</td>\n",
       "      <td>2</td>\n",
       "      <td>4</td>\n",
       "      <td>NaN</td>\n",
       "      <td>NaN</td>\n",
       "      <td>1</td>\n",
       "      <td>run01</td>\n",
       "    </tr>\n",
       "  </tbody>\n",
       "</table>\n",
       "<p>5 rows × 65 columns</p>\n",
       "</div>"
      ],
      "text/plain": [
       "    index                             read_name  read_length  read_idx  \\\n",
       "0   27771  132f1be4-df3c-4a1f-bc53-40df856b0c42         4312     35703   \n",
       "1  206517  b0e13742-1d17-47d9-a017-668f37b6788f         2616      7786   \n",
       "2  117363  330b862a-138c-48d7-9534-be879100a320         1022     31146   \n",
       "3  468866  af44682d-de48-467d-8cd2-f79d45b85f69         1364     36416   \n",
       "4  180875  7470a373-22cb-49b2-a0df-9e5279d9559c         3386      7678   \n",
       "\n",
       "   contact_is_direct  contact_is_cis  contact_read_distance  \\\n",
       "0              False            True                   1619   \n",
       "1              False            True                   1432   \n",
       "2               True            True                      1   \n",
       "3               True            True                    254   \n",
       "4              False            True                    866   \n",
       "\n",
       "   contact_genome_distance  contact_fragment_adjacent  \\\n",
       "0                    11803                      False   \n",
       "1                   714701                      False   \n",
       "2                     1378                      False   \n",
       "3                   729058                      False   \n",
       "4                   716159                      False   \n",
       "\n",
       "   contact_fragment_distance  ... align1_absolute_midpoint  \\\n",
       "0                      12375  ...               2630943949   \n",
       "1                     715354  ...               2630229012   \n",
       "2                       1844  ...               2630227938   \n",
       "3                     729603  ...               2630227390   \n",
       "4                     716559  ...               2630227390   \n",
       "\n",
       "   align2_absolute_midpoint mean_mapping_quality  contact_count  \\\n",
       "0                2630956324                 50.0              1   \n",
       "1                2630944366                 96.0              1   \n",
       "2                2630229781                 49.5              1   \n",
       "3                2630956993                 47.5              1   \n",
       "4                2630943949                 50.5              1   \n",
       "\n",
       "   align1_fragcount  align2_fragcount  align1_n_reads  align2_n_reads  \\\n",
       "0                 4                 3             NaN             NaN   \n",
       "1                 4                 2             NaN             NaN   \n",
       "2                 3                 2             NaN             NaN   \n",
       "3                 2                 3             NaN             NaN   \n",
       "4                 2                 4             NaN             NaN   \n",
       "\n",
       "   contact_has_support   cell  \n",
       "0                    1  run01  \n",
       "1                    1  run01  \n",
       "2                    1  run01  \n",
       "3                    1  run01  \n",
       "4                    1  run01  \n",
       "\n",
       "[5 rows x 65 columns]"
      ]
     },
     "execution_count": 2,
     "metadata": {},
     "output_type": "execute_result"
    }
   ],
   "source": [
    "filepath = \"filtered_data/clique1MBfiltered.csv\"\n",
    "\n",
    "df = pd.read_csv(filepath)\n",
    "print(f\"{df.shape=}\")\n",
    "df.head()"
   ]
  },
  {
   "cell_type": "code",
   "execution_count": 3,
   "metadata": {},
   "outputs": [
    {
     "name": "stdout",
     "output_type": "stream",
     "text": [
      "seqs.shape=(1586663, 9)\n"
     ]
    },
    {
     "data": {
      "text/html": [
       "<div>\n",
       "<style scoped>\n",
       "    .dataframe tbody tr th:only-of-type {\n",
       "        vertical-align: middle;\n",
       "    }\n",
       "\n",
       "    .dataframe tbody tr th {\n",
       "        vertical-align: top;\n",
       "    }\n",
       "\n",
       "    .dataframe thead th {\n",
       "        text-align: right;\n",
       "    }\n",
       "</style>\n",
       "<table border=\"1\" class=\"dataframe\">\n",
       "  <thead>\n",
       "    <tr style=\"text-align: right;\">\n",
       "      <th></th>\n",
       "      <th>read_name</th>\n",
       "      <th>read_idx</th>\n",
       "      <th>align_idx</th>\n",
       "      <th>seq</th>\n",
       "      <th>read_length</th>\n",
       "      <th>read_start</th>\n",
       "      <th>read_end</th>\n",
       "      <th>file</th>\n",
       "      <th>runId</th>\n",
       "    </tr>\n",
       "  </thead>\n",
       "  <tbody>\n",
       "    <tr>\n",
       "      <th>0</th>\n",
       "      <td>3093bc64-a1fe-47fc-868e-57ca8413f1aa</td>\n",
       "      <td>20692</td>\n",
       "      <td>102390</td>\n",
       "      <td>AGTACTTCAGTTTAGTTACAGCTTATTCTTCAGGTTAAAAGGTTAC...</td>\n",
       "      <td>7606.0</td>\n",
       "      <td>2498</td>\n",
       "      <td>4518</td>\n",
       "      <td>NlaIII_run01_batch20_GRCm39.coord_sort.bam</td>\n",
       "      <td>run01</td>\n",
       "    </tr>\n",
       "    <tr>\n",
       "      <th>1</th>\n",
       "      <td>3093bc64-a1fe-47fc-868e-57ca8413f1aa</td>\n",
       "      <td>20692</td>\n",
       "      <td>102396</td>\n",
       "      <td>TCTGACTGTGGCCTTAGAGCAGGTGATGGAAGGGCTGAAGGTAGGT...</td>\n",
       "      <td>7606.0</td>\n",
       "      <td>7182</td>\n",
       "      <td>7520</td>\n",
       "      <td>NlaIII_run01_batch20_GRCm39.coord_sort.bam</td>\n",
       "      <td>run01</td>\n",
       "    </tr>\n",
       "    <tr>\n",
       "      <th>2</th>\n",
       "      <td>3093bc64-a1fe-47fc-868e-57ca8413f1aa</td>\n",
       "      <td>20692</td>\n",
       "      <td>102394</td>\n",
       "      <td>TCTGACTGTGGCCTTAGAGCAGGTGATGGAAGGGCTGAAGGTAGGT...</td>\n",
       "      <td>7606.0</td>\n",
       "      <td>5104</td>\n",
       "      <td>5875</td>\n",
       "      <td>NlaIII_run01_batch20_GRCm39.coord_sort.bam</td>\n",
       "      <td>run01</td>\n",
       "    </tr>\n",
       "    <tr>\n",
       "      <th>3</th>\n",
       "      <td>3093bc64-a1fe-47fc-868e-57ca8413f1aa</td>\n",
       "      <td>20692</td>\n",
       "      <td>102392</td>\n",
       "      <td>AGTACTTCAGTTTAGTTACAGCTTATTCTTCAGGTTAAAAGGTTAC...</td>\n",
       "      <td>7606.0</td>\n",
       "      <td>420</td>\n",
       "      <td>1266</td>\n",
       "      <td>NlaIII_run01_batch20_GRCm39.coord_sort.bam</td>\n",
       "      <td>run01</td>\n",
       "    </tr>\n",
       "    <tr>\n",
       "      <th>4</th>\n",
       "      <td>3093bc64-a1fe-47fc-868e-57ca8413f1aa</td>\n",
       "      <td>20692</td>\n",
       "      <td>102393</td>\n",
       "      <td>TCTGACTGTGGCCTTAGAGCAGGTGATGGAAGGGCTGAAGGTAGGT...</td>\n",
       "      <td>7606.0</td>\n",
       "      <td>5261</td>\n",
       "      <td>6045</td>\n",
       "      <td>NlaIII_run01_batch20_GRCm39.coord_sort.bam</td>\n",
       "      <td>run01</td>\n",
       "    </tr>\n",
       "  </tbody>\n",
       "</table>\n",
       "</div>"
      ],
      "text/plain": [
       "                              read_name  read_idx  align_idx  \\\n",
       "0  3093bc64-a1fe-47fc-868e-57ca8413f1aa     20692     102390   \n",
       "1  3093bc64-a1fe-47fc-868e-57ca8413f1aa     20692     102396   \n",
       "2  3093bc64-a1fe-47fc-868e-57ca8413f1aa     20692     102394   \n",
       "3  3093bc64-a1fe-47fc-868e-57ca8413f1aa     20692     102392   \n",
       "4  3093bc64-a1fe-47fc-868e-57ca8413f1aa     20692     102393   \n",
       "\n",
       "                                                 seq  read_length  read_start  \\\n",
       "0  AGTACTTCAGTTTAGTTACAGCTTATTCTTCAGGTTAAAAGGTTAC...       7606.0        2498   \n",
       "1  TCTGACTGTGGCCTTAGAGCAGGTGATGGAAGGGCTGAAGGTAGGT...       7606.0        7182   \n",
       "2  TCTGACTGTGGCCTTAGAGCAGGTGATGGAAGGGCTGAAGGTAGGT...       7606.0        5104   \n",
       "3  AGTACTTCAGTTTAGTTACAGCTTATTCTTCAGGTTAAAAGGTTAC...       7606.0         420   \n",
       "4  TCTGACTGTGGCCTTAGAGCAGGTGATGGAAGGGCTGAAGGTAGGT...       7606.0        5261   \n",
       "\n",
       "   read_end                                        file  runId  \n",
       "0      4518  NlaIII_run01_batch20_GRCm39.coord_sort.bam  run01  \n",
       "1      7520  NlaIII_run01_batch20_GRCm39.coord_sort.bam  run01  \n",
       "2      5875  NlaIII_run01_batch20_GRCm39.coord_sort.bam  run01  \n",
       "3      1266  NlaIII_run01_batch20_GRCm39.coord_sort.bam  run01  \n",
       "4      6045  NlaIII_run01_batch20_GRCm39.coord_sort.bam  run01  "
      ]
     },
     "execution_count": 3,
     "metadata": {},
     "output_type": "execute_result"
    }
   ],
   "source": [
    "dfList = []\n",
    "\n",
    "for runId in df['cell'].unique():\n",
    "    filepath = f'filtered_data/{runId}_sequences.csv'\n",
    "    cellDf = pd.read_csv(filepath)\n",
    "    dfList.append(cellDf)\n",
    "\n",
    "seqs = pd.concat(dfList, ignore_index=True)\n",
    "print(f\"{seqs.shape=}\")\n",
    "seqs.head()"
   ]
  },
  {
   "cell_type": "code",
   "execution_count": 4,
   "metadata": {},
   "outputs": [
    {
     "name": "stdout",
     "output_type": "stream",
     "text": [
      "adjacentContact.shape=(219722, 65)\n"
     ]
    }
   ],
   "source": [
    "adjacentContact = df[df['contact_is_direct'] == True]\n",
    "print(f\"{adjacentContact.shape=}\")"
   ]
  },
  {
   "cell_type": "code",
   "execution_count": 5,
   "metadata": {},
   "outputs": [
    {
     "data": {
      "text/plain": [
       "Index(['index', 'read_name', 'read_length', 'read_idx', 'contact_is_direct',\n",
       "       'contact_is_cis', 'contact_read_distance', 'contact_genome_distance',\n",
       "       'contact_fragment_adjacent', 'contact_fragment_distance',\n",
       "       'haplotype_pair_type', 'align1_align_idx', 'align1_chrom',\n",
       "       'align1_start', 'align1_end', 'align1_strand', 'align1_mapping_quality',\n",
       "       'align1_align_score', 'align1_align_base_qscore', 'align1_phase_set',\n",
       "       'align1_phase_qual', 'align1_haplotype', 'align1_fragment_id',\n",
       "       'align1_fragment_start', 'align1_fragment_end', 'align2_align_idx',\n",
       "       'align2_chrom', 'align2_start', 'align2_end', 'align2_strand',\n",
       "       'align2_mapping_quality', 'align2_align_score',\n",
       "       'align2_align_base_qscore', 'align2_phase_set', 'align2_haplotype',\n",
       "       'align2_fragment_id', 'align2_fragment_start', 'align2_fragment_end',\n",
       "       'batch_id', 'align1_chromosome_name', 'align1_chrom_length',\n",
       "       'align1_genbank', 'align1_refSeq', 'align1_chrom_end',\n",
       "       'align1_chrom_start', 'align2_chromosome_name', 'align2_chrom_length',\n",
       "       'align2_genbank', 'align2_refSeq', 'align2_chrom_end',\n",
       "       'align2_chrom_start', 'align1_absolute_start', 'align2_absolute_start',\n",
       "       'align1_absolute_end', 'align2_absolute_end',\n",
       "       'align1_absolute_midpoint', 'align2_absolute_midpoint',\n",
       "       'mean_mapping_quality', 'contact_count', 'align1_fragcount',\n",
       "       'align2_fragcount', 'align1_n_reads', 'align2_n_reads',\n",
       "       'contact_has_support', 'cell'],\n",
       "      dtype='object')"
      ]
     },
     "execution_count": 5,
     "metadata": {},
     "output_type": "execute_result"
    }
   ],
   "source": [
    "adjacentContact.columns"
   ]
  },
  {
   "cell_type": "code",
   "execution_count": 6,
   "metadata": {},
   "outputs": [],
   "source": [
    "# break"
   ]
  },
  {
   "cell_type": "code",
   "execution_count": 7,
   "metadata": {},
   "outputs": [
    {
     "name": "stdout",
     "output_type": "stream",
     "text": [
      "subset.shape=(932, 65)\n"
     ]
    }
   ],
   "source": [
    "cell = 'run05'\n",
    "chrom = '2'\n",
    "\n",
    "subset = adjacentContact[adjacentContact['cell'] == cell]\n",
    "subset = subset[(subset['align1_chromosome_name'] == chrom) & (subset['align2_chromosome_name'] == chrom)]\n",
    "print(f\"{subset.shape=}\")"
   ]
  },
  {
   "cell_type": "code",
   "execution_count": 8,
   "metadata": {},
   "outputs": [
    {
     "name": "stdout",
     "output_type": "stream",
     "text": [
      "np.mean(cutCounts)=1.0268240343347639\n",
      "np.min(cutCounts)=0\n",
      "np.max(cutCounts)=9\n",
      "done.\n"
     ]
    }
   ],
   "source": [
    "cutter = 'CATG'\n",
    "buffer = 50 # bp ON EITHER SIDE OF THE FRAGMENT\n",
    "\n",
    "def getSequencePosition(seqs, read_name, align_idx):\n",
    "    \"\"\"A function to return the str sequence given a read name and alignment index\n",
    "    \"\"\"\n",
    "    query = (seqs['read_name'] == read_name) & (seqs['align_idx'] == align_idx)\n",
    "    res = seqs.loc[query]\n",
    "    \n",
    "    start = res['read_start'].values[0]\n",
    "    end = res['read_end'].values[0]\n",
    "    seq = res['seq'].values[0]\n",
    "\n",
    "    return seq, start, end \n",
    "    \n",
    "\n",
    "cutCounts = []\n",
    "noMansLands = []\n",
    "fullSequence = []\n",
    "\n",
    "\n",
    "for idx, row in subset.iterrows():\n",
    "    \n",
    "    count += 1\n",
    "    \n",
    "    read_name = row['read_name']\n",
    "    unMappedLen = row['contact_read_distance']\n",
    "    \n",
    "    align_idx = row['align1_align_idx']\n",
    "    seq, start, end = getSequencePosition(seqs, read_name, align_idx)\n",
    "    \n",
    "    indicator = 0\n",
    "    \n",
    "    if unMappedLen >= 0:\n",
    "        seqStart = end - buffer\n",
    "        seqEnd = end + unMappedLen + buffer\n",
    "        noMansLand = seq[seqStart: seqEnd]\n",
    "    else:\n",
    "        indicator = 1\n",
    "        seqStart = (end + unMappedLen) - buffer\n",
    "        seqEnd = end + buffer\n",
    "        noMansLand = seq[seqStart: seqEnd]\n",
    "    \n",
    "    cutSites = noMansLand.count(cutter)\n",
    "    noMansLands.append(noMansLand)\n",
    "    fullSequence.append(seq)\n",
    "    \n",
    "    cutCounts.append(cutSites)\n",
    "    \n",
    "\n",
    "subset['seqs'] = fullSequence\n",
    "subset['noMansLand'] = noMansLands\n",
    "    \n",
    "subset['cutCounts'] = cutCounts\n",
    "print(f\"{np.mean(cutCounts)=}\")\n",
    "print(f\"{np.min(cutCounts)=}\")\n",
    "print(f\"{np.max(cutCounts)=}\")\n",
    "\n",
    "print('done.')"
   ]
  },
  {
   "cell_type": "code",
   "execution_count": 18,
   "metadata": {},
   "outputs": [
    {
     "name": "stdout",
     "output_type": "stream",
     "text": [
      "noCuts.shape=(327, 69)\n"
     ]
    }
   ],
   "source": [
    "noCuts = subset[subset['cutCounts'] == 0]\n",
    "print(f\"{noCuts.shape=}\")"
   ]
  },
  {
   "cell_type": "code",
   "execution_count": 24,
   "metadata": {},
   "outputs": [
    {
     "data": {
      "text/plain": [
       "1    0.737463\n",
       "0    0.262537\n",
       "Name: hasCut, dtype: float64"
      ]
     },
     "execution_count": 24,
     "metadata": {},
     "output_type": "execute_result"
    }
   ],
   "source": [
    "subset['hasCut'] = np.where(subset['cutCounts'] > 0, 1, 0)\n",
    "postiveDist = subset[subset['contact_read_distance'] > 5]\n",
    "postiveDist['hasCut'].value_counts(normalize=True)"
   ]
  },
  {
   "cell_type": "code",
   "execution_count": 17,
   "metadata": {},
   "outputs": [],
   "source": [
    "# plt.rcParams['figure.dpi'] = 150\n",
    "# plt.rcParams['figure.figsize'] = 6, 4\n",
    "# plt.hist(subset['contact_read_distance'], edgecolor='k')\n",
    "# plt.title('Read Distance Between Adjacent Loci')\n",
    "# plt.xlabel('Distance (bp)')\n",
    "# plt.ylabel('Count of Pairs')"
   ]
  },
  {
   "cell_type": "code",
   "execution_count": 19,
   "metadata": {},
   "outputs": [
    {
     "name": "stdout",
     "output_type": "stream",
     "text": [
      "198\n"
     ]
    }
   ],
   "source": [
    "cutCountsSecondary = []\n",
    "\n",
    "count = 0\n",
    "\n",
    "for idx, row in noCuts.iterrows():\n",
    "    align_idx = row['align2_align_idx']\n",
    "    read_name = row['read_name']\n",
    "    seq, start, end = getSequencePosition(seqs, read_name, align_idx)\n",
    "    \n",
    "    if unMappedLen >= 0:\n",
    "        seqStart = start - unMappedLen - buffer\n",
    "        seqEnd = start + buffer\n",
    "        noMansLand = seq[seqStart: seqEnd]\n",
    "    else:\n",
    "        seqStart = start - buffer\n",
    "        seqEnd = start + unMappedLen + buffer\n",
    "        noMansLand = seq[seqStart: seqEnd]\n",
    "        \n",
    "    cutSites = noMansLand.count(cutter)\n",
    "    \n",
    "    if cutSites < 1:\n",
    "        count += 1\n",
    "        \n",
    "        \n",
    "print(count)"
   ]
  },
  {
   "cell_type": "code",
   "execution_count": null,
   "metadata": {},
   "outputs": [],
   "source": []
  },
  {
   "cell_type": "code",
   "execution_count": null,
   "metadata": {},
   "outputs": [],
   "source": []
  },
  {
   "cell_type": "code",
   "execution_count": null,
   "metadata": {},
   "outputs": [],
   "source": []
  },
  {
   "cell_type": "code",
   "execution_count": 16,
   "metadata": {},
   "outputs": [
    {
     "name": "stdout",
     "output_type": "stream",
     "text": [
      "np.min(subset['noMansLen'])=50\n",
      "np.max(subset['noMansLen'])=1100\n"
     ]
    },
    {
     "data": {
      "text/plain": [
       "<matplotlib.colorbar.Colorbar at 0x2b1e14b96ac0>"
      ]
     },
     "execution_count": 16,
     "metadata": {},
     "output_type": "execute_result"
    },
    {
     "data": {
      "image/png": "[encoded data removed]",
      "text/plain": [
       "<Figure size 900x600 with 2 Axes>"
      ]
     },
     "metadata": {
      "needs_background": "light"
     },
     "output_type": "display_data"
    }
   ],
   "source": [
    "# subset['noMansLen'] = subset['noMansLand'].apply(len)\n",
    "# print(f\"{np.min(subset['noMansLen'])=}\")\n",
    "# print(f\"{np.max(subset['noMansLen'])=}\")\n",
    "\n",
    "# plt.scatter(subset['contact_read_distance'], \n",
    "#             subset['noMansLen'],\n",
    "#             c=subset['cutCounts'])\n",
    "\n",
    "# plt.xlabel('contact_read_distance')\n",
    "# plt.ylabel('noMansLen')\n",
    "# plt.colorbar()"
   ]
  },
  {
   "cell_type": "code",
   "execution_count": null,
   "metadata": {},
   "outputs": [],
   "source": []
  },
  {
   "cell_type": "code",
   "execution_count": null,
   "metadata": {},
   "outputs": [],
   "source": []
  }
 ],
 "metadata": {
  "kernelspec": {
   "display_name": "Python 3",
   "language": "python",
   "name": "python3"
  },
  "language_info": {
   "codemirror_mode": {
    "name": "ipython",
    "version": 3
   },
   "file_extension": ".py",
   "mimetype": "text/x-python",
   "name": "python",
   "nbconvert_exporter": "python",
   "pygments_lexer": "ipython3",
   "version": "3.8.3"
  }
 },
 "nbformat": 4,
 "nbformat_minor": 4
}
