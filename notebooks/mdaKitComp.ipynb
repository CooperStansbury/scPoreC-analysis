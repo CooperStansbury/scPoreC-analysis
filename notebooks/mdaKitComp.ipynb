{
 "cells": [
  {
   "cell_type": "code",
   "execution_count": 3,
   "metadata": {},
   "outputs": [],
   "source": [
    "import pandas as pd\n",
    "import numpy as np\n",
    "import cooler\n",
    "import matplotlib.pyplot as plt\n",
    "import matplotlib.colors\n",
    "from matplotlib.patches import Patch\n",
    "from matplotlib.offsetbox import AnchoredText\n",
    "import scipy.io\n",
    "import matplotlib.colors\n",
    "import seaborn as sns\n",
    "import matplotlib.patches as patches\n",
    "import pysam\n",
    "\n",
    "from scipy import stats\n",
    "\n",
    "import os\n",
    "import sys\n",
    "from importlib import reload"
   ]
  },
  {
   "cell_type": "code",
   "execution_count": 2,
   "metadata": {},
   "outputs": [
    {
     "name": "stdout",
     "output_type": "stream",
     "text": [
      "matrix\n",
      "virtual_digest\n",
      "mapping\n",
      "merged_contacts\n",
      "logs\n",
      "align_table\n",
      "benchmarks\n",
      "basecall\n",
      "refgenome\n",
      "contacts\n"
     ]
    }
   ],
   "source": [
    "path = \"/nfs/turbo/umms-indikar/shared/tools/Pore-C-Snakemake/results_ES_Cells_2021\"\n",
    "\n",
    "for d in os.listdir(path):\n",
    "    print(d)"
   ]
  },
  {
   "cell_type": "code",
   "execution_count": null,
   "metadata": {},
   "outputs": [],
   "source": []
  }
 ],
 "metadata": {
  "kernelspec": {
   "display_name": "Python 3",
   "language": "python",
   "name": "python3"
  },
  "language_info": {
   "codemirror_mode": {
    "name": "ipython",
    "version": 3
   },
   "file_extension": ".py",
   "mimetype": "text/x-python",
   "name": "python",
   "nbconvert_exporter": "python",
   "pygments_lexer": "ipython3",
   "version": "3.8.3"
  }
 },
 "nbformat": 4,
 "nbformat_minor": 4
}
