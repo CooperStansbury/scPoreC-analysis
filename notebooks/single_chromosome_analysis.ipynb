{
 "cells": [
  {
   "cell_type": "code",
   "execution_count": 1,
   "metadata": {},
   "outputs": [],
   "source": [
    "import pandas as pd\n",
    "import numpy as np\n",
    "from collections import Counter\n",
    "import matplotlib.pyplot as plt\n",
    "import seaborn as sns\n",
    "\n",
    "import os\n",
    "import sys"
   ]
  },
  {
   "cell_type": "markdown",
   "metadata": {},
   "source": [
    "# Data Description\n",
    "\n",
    "- read_name - \"The original read name\"\n",
    "- read_length - \"The length of the read in bases\"\n",
    "- read_idx - \"Unique integer ID of the read\"\n",
    "- contact_is_direct - \"There are no intervening assigned restriction fragments on the read\"\n",
    "- contact_is_cis - \"Both alignments come from the same chromsome/contig\"\n",
    "- contact_read_distance - \"The distance between the end of the left alignment and the start of the right alignment on the read\"\n",
    "- contact_genome_distance - \"The distance between the end of the left alignment and the start of the right alignment (valid for cis contacts only)\"\n",
    "- contact_fragment_adjacent - \"A boolean to indicate if the contact is between the same or adjacent fragments\"\n",
    "- contact_fragment_distance - \"The distance between the midpoints of the assigned fragments (valid for cis contacts only)\"\n",
    "- haplotype_pair_type - \"A categorical variable describing the relationship between the haplotypes assigned to each of the alignments in a contact\"\n",
    "- align1_align_idx - \"Unique integer ID of the first aligned segment\"\n",
    "- align1_chrom - \"The chromosome/contig of the first aligned segment\"\n",
    "- align1_start - \"The zero-based start position on the genome of the alignment\"\n",
    "- align1_end - \"The end position on the genome of the alignment\"\n",
    "- align1_strand - \"The alignment strand\"\n",
    "- align1_mapping_quality - \"The mapping quality as calculated by the aligner\"\n",
    "- align1_align_score - \"The alignment score as calculated by the aligner\"\n",
    "- align1_align_base_qscore - \"The mean read base score for the aligned segment (rounded to the nearest integer).\"\n",
    "- align1_phase_set - \"The ID of the phase set, often this is the start position of the phase block\"\n",
    "- align1_phase_qual - \"The phred-scaled quality score of the haplotype assignment\"\n",
    "- align1_haplotype - \"The id of the haplotype within this block, usually set to 1 or 2. A value of -1 means that this alignment is unphased\"\n",
    "- align1_fragment_id - \"The UID of the restriction fragment assigned to this alignment\"\n",
    "- align1_fragment_start - \"The start point on the genome of this restriction fragment\"\n",
    "- align1_fragment_end - \"The end point on the genome of this restriction fragment\"\n",
    "- align2_align_idx - \"Unique integer ID of the first aligned segment\"\n",
    "- align2_chrom - \"The chromosome/contig of the first aligned segment\"\n",
    "- align2_start - \"The zero-based start position on the genome of the alignment\"\n",
    "- align2_end - \"The end position on the genome of the alignment\"\n",
    "- align2_strand - \"The alignment strand\"\n",
    "- align2_mapping_quality - The mapping quality as calculated by the aligner\"\n",
    "- align2_align_score - \"The alignment score as calculated by the aligner\",\n",
    "- align2_align_base_qscore= - \"The mean read base score for the aligned segment (rounded to the nearest integer).\"\n",
    "- align2_phase_set - \"The ID of the phase set, often this is the start position of the phase block\"\n",
    "- align2_phase_qual - \"The phred-scaled quality score of the haplotype assignment\"\n",
    "- align2_haplotype - \"The id of the haplotype within this block, usually set to 1 or 2. A value of -1 means that this alignment is unphased\"\n",
    "- align2_fragment_id - \"The UID of the restriction fragment assigned to this alignment\"\n",
    "- align2_fragment_start - \"The start point on the genome of this restriction fragment\"\n",
    "- align2_fragment_end - \"The end point on the genome of this restriction fragment\"\n"
   ]
  },
  {
   "cell_type": "code",
   "execution_count": 2,
   "metadata": {},
   "outputs": [
    {
     "name": "stdout",
     "output_type": "stream",
     "text": [
      "df.shape=(10525887, 38)\n"
     ]
    },
    {
     "data": {
      "text/html": [
       "<div>\n",
       "<style scoped>\n",
       "    .dataframe tbody tr th:only-of-type {\n",
       "        vertical-align: middle;\n",
       "    }\n",
       "\n",
       "    .dataframe tbody tr th {\n",
       "        vertical-align: top;\n",
       "    }\n",
       "\n",
       "    .dataframe thead th {\n",
       "        text-align: right;\n",
       "    }\n",
       "</style>\n",
       "<table border=\"1\" class=\"dataframe\">\n",
       "  <thead>\n",
       "    <tr style=\"text-align: right;\">\n",
       "      <th></th>\n",
       "      <th>read_name</th>\n",
       "      <th>read_length</th>\n",
       "      <th>read_idx</th>\n",
       "      <th>contact_is_direct</th>\n",
       "      <th>contact_is_cis</th>\n",
       "      <th>contact_read_distance</th>\n",
       "      <th>contact_genome_distance</th>\n",
       "      <th>contact_fragment_adjacent</th>\n",
       "      <th>contact_fragment_distance</th>\n",
       "      <th>haplotype_pair_type</th>\n",
       "      <th>...</th>\n",
       "      <th>align2_strand</th>\n",
       "      <th>align2_mapping_quality</th>\n",
       "      <th>align2_align_score</th>\n",
       "      <th>align2_align_base_qscore</th>\n",
       "      <th>align2_phase_set</th>\n",
       "      <th>align2_haplotype</th>\n",
       "      <th>align2_fragment_id</th>\n",
       "      <th>align2_fragment_start</th>\n",
       "      <th>align2_fragment_end</th>\n",
       "      <th>batch_id</th>\n",
       "    </tr>\n",
       "  </thead>\n",
       "  <tbody>\n",
       "    <tr>\n",
       "      <th>0</th>\n",
       "      <td>000188c4-51f3-4a10-9bce-f328c3594118</td>\n",
       "      <td>849</td>\n",
       "      <td>22724</td>\n",
       "      <td>True</td>\n",
       "      <td>True</td>\n",
       "      <td>13</td>\n",
       "      <td>-2205</td>\n",
       "      <td>True</td>\n",
       "      <td>0</td>\n",
       "      <td>unphased</td>\n",
       "      <td>...</td>\n",
       "      <td>True</td>\n",
       "      <td>38</td>\n",
       "      <td>216</td>\n",
       "      <td>14</td>\n",
       "      <td>0</td>\n",
       "      <td>-1</td>\n",
       "      <td>7450888</td>\n",
       "      <td>34492235</td>\n",
       "      <td>34499305</td>\n",
       "      <td>batch15</td>\n",
       "    </tr>\n",
       "    <tr>\n",
       "      <th>1</th>\n",
       "      <td>000188c4-51f3-4a10-9bce-f328c3594118</td>\n",
       "      <td>849</td>\n",
       "      <td>22724</td>\n",
       "      <td>False</td>\n",
       "      <td>True</td>\n",
       "      <td>199</td>\n",
       "      <td>18</td>\n",
       "      <td>True</td>\n",
       "      <td>0</td>\n",
       "      <td>unphased</td>\n",
       "      <td>...</td>\n",
       "      <td>True</td>\n",
       "      <td>121</td>\n",
       "      <td>166</td>\n",
       "      <td>13</td>\n",
       "      <td>0</td>\n",
       "      <td>-1</td>\n",
       "      <td>7450888</td>\n",
       "      <td>34492235</td>\n",
       "      <td>34499305</td>\n",
       "      <td>batch15</td>\n",
       "    </tr>\n",
       "    <tr>\n",
       "      <th>2</th>\n",
       "      <td>000188c4-51f3-4a10-9bce-f328c3594118</td>\n",
       "      <td>849</td>\n",
       "      <td>22724</td>\n",
       "      <td>False</td>\n",
       "      <td>True</td>\n",
       "      <td>432</td>\n",
       "      <td>-856</td>\n",
       "      <td>True</td>\n",
       "      <td>0</td>\n",
       "      <td>unphased</td>\n",
       "      <td>...</td>\n",
       "      <td>True</td>\n",
       "      <td>14</td>\n",
       "      <td>86</td>\n",
       "      <td>22</td>\n",
       "      <td>0</td>\n",
       "      <td>-1</td>\n",
       "      <td>7450888</td>\n",
       "      <td>34492235</td>\n",
       "      <td>34499305</td>\n",
       "      <td>batch15</td>\n",
       "    </tr>\n",
       "    <tr>\n",
       "      <th>3</th>\n",
       "      <td>000188c4-51f3-4a10-9bce-f328c3594118</td>\n",
       "      <td>849</td>\n",
       "      <td>22724</td>\n",
       "      <td>True</td>\n",
       "      <td>True</td>\n",
       "      <td>-58</td>\n",
       "      <td>1978</td>\n",
       "      <td>True</td>\n",
       "      <td>0</td>\n",
       "      <td>unphased</td>\n",
       "      <td>...</td>\n",
       "      <td>True</td>\n",
       "      <td>121</td>\n",
       "      <td>166</td>\n",
       "      <td>13</td>\n",
       "      <td>0</td>\n",
       "      <td>-1</td>\n",
       "      <td>7450888</td>\n",
       "      <td>34492235</td>\n",
       "      <td>34499305</td>\n",
       "      <td>batch15</td>\n",
       "    </tr>\n",
       "    <tr>\n",
       "      <th>4</th>\n",
       "      <td>000188c4-51f3-4a10-9bce-f328c3594118</td>\n",
       "      <td>849</td>\n",
       "      <td>22724</td>\n",
       "      <td>False</td>\n",
       "      <td>True</td>\n",
       "      <td>175</td>\n",
       "      <td>1104</td>\n",
       "      <td>True</td>\n",
       "      <td>0</td>\n",
       "      <td>unphased</td>\n",
       "      <td>...</td>\n",
       "      <td>True</td>\n",
       "      <td>14</td>\n",
       "      <td>86</td>\n",
       "      <td>22</td>\n",
       "      <td>0</td>\n",
       "      <td>-1</td>\n",
       "      <td>7450888</td>\n",
       "      <td>34492235</td>\n",
       "      <td>34499305</td>\n",
       "      <td>batch15</td>\n",
       "    </tr>\n",
       "  </tbody>\n",
       "</table>\n",
       "<p>5 rows × 38 columns</p>\n",
       "</div>"
      ],
      "text/plain": [
       "                              read_name  read_length  read_idx  \\\n",
       "0  000188c4-51f3-4a10-9bce-f328c3594118          849     22724   \n",
       "1  000188c4-51f3-4a10-9bce-f328c3594118          849     22724   \n",
       "2  000188c4-51f3-4a10-9bce-f328c3594118          849     22724   \n",
       "3  000188c4-51f3-4a10-9bce-f328c3594118          849     22724   \n",
       "4  000188c4-51f3-4a10-9bce-f328c3594118          849     22724   \n",
       "\n",
       "   contact_is_direct  contact_is_cis  contact_read_distance  \\\n",
       "0               True            True                     13   \n",
       "1              False            True                    199   \n",
       "2              False            True                    432   \n",
       "3               True            True                    -58   \n",
       "4              False            True                    175   \n",
       "\n",
       "   contact_genome_distance  contact_fragment_adjacent  \\\n",
       "0                    -2205                       True   \n",
       "1                       18                       True   \n",
       "2                     -856                       True   \n",
       "3                     1978                       True   \n",
       "4                     1104                       True   \n",
       "\n",
       "   contact_fragment_distance haplotype_pair_type  ...  align2_strand  \\\n",
       "0                          0            unphased  ...           True   \n",
       "1                          0            unphased  ...           True   \n",
       "2                          0            unphased  ...           True   \n",
       "3                          0            unphased  ...           True   \n",
       "4                          0            unphased  ...           True   \n",
       "\n",
       "  align2_mapping_quality  align2_align_score  align2_align_base_qscore  \\\n",
       "0                     38                 216                        14   \n",
       "1                    121                 166                        13   \n",
       "2                     14                  86                        22   \n",
       "3                    121                 166                        13   \n",
       "4                     14                  86                        22   \n",
       "\n",
       "   align2_phase_set  align2_haplotype  align2_fragment_id  \\\n",
       "0                 0                -1             7450888   \n",
       "1                 0                -1             7450888   \n",
       "2                 0                -1             7450888   \n",
       "3                 0                -1             7450888   \n",
       "4                 0                -1             7450888   \n",
       "\n",
       "   align2_fragment_start  align2_fragment_end  batch_id  \n",
       "0               34492235             34499305   batch15  \n",
       "1               34492235             34499305   batch15  \n",
       "2               34492235             34499305   batch15  \n",
       "3               34492235             34499305   batch15  \n",
       "4               34492235             34499305   batch15  \n",
       "\n",
       "[5 rows x 38 columns]"
      ]
     },
     "execution_count": 2,
     "metadata": {},
     "output_type": "execute_result"
    }
   ],
   "source": [
    "# dirpath = \"/nfs/turbo/umms-indikar/shared/tools/Pore-C-Snakemake/results_ES_Cells_2021/contacts/\"\n",
    "dirpath = \"/nfs/turbo/umms-indikar/shared/tools/Pore-C-Snakemake/results_ES5to12/contacts/\"\n",
    "\n",
    "cell = \"NlaIII_run07\"\n",
    "\n",
    "df_list = []\n",
    "for f in os.listdir(dirpath):\n",
    "    if cell in f:\n",
    "        filepath = f\"{dirpath}{f}\"\n",
    "        tmp = pd.read_parquet(filepath)\n",
    "        tmp['batch_id'] = f.split(\"_\")[2]\n",
    "        \n",
    "        df_list.append(tmp)\n",
    "        \n",
    "        \n",
    "df = pd.concat(df_list)\n",
    "print(f\"{df.shape=}\")\n",
    "df.head()"
   ]
  },
  {
   "cell_type": "code",
   "execution_count": 3,
   "metadata": {},
   "outputs": [
    {
     "name": "stdout",
     "output_type": "stream",
     "text": [
      "cisContacts=7456892\n",
      "transContacts=3068995\n",
      "cisContacts/transContacts=2.4298\n"
     ]
    }
   ],
   "source": [
    "# print unfiltered cis/trans ratio\n",
    "def printCisTransRatio(df):\n",
    "    cisContacts = np.sum(np.where(df['contact_is_cis'] == 1, 1, 0))\n",
    "    transContacts = np.sum(np.where(df['contact_is_cis'] == 0, 1, 0))\n",
    "\n",
    "    \n",
    "    print(f\"{cisContacts=}\")\n",
    "    print(f\"{transContacts=}\")\n",
    "    print(f\"{cisContacts/transContacts=:.4f}\")\n",
    "    \n",
    "printCisTransRatio(df)"
   ]
  },
  {
   "cell_type": "code",
   "execution_count": 4,
   "metadata": {},
   "outputs": [
    {
     "name": "stdout",
     "output_type": "stream",
     "text": [
      "exact=1552217\n",
      "n=21051774\n",
      "exact/n=0.074\n"
     ]
    }
   ],
   "source": [
    "# Nanago et. state that .99 of reads mapped to cut sites exactly\n",
    "\n",
    "align1CutSiteMatch = np.where(df['align1_end'] == df['align1_fragment_end'], 1, 0)\n",
    "align2CutSiteMatch = np.where(df['align2_end'] == df['align2_fragment_end'], 1, 0)\n",
    "\n",
    "cutSiteMatches = list(align1CutSiteMatch) + list(align2CutSiteMatch)\n",
    "\n",
    "exact = np.sum(cutSiteMatches)\n",
    "n = len(cutSiteMatches)\n",
    "\n",
    "print(f\"{exact=}\")\n",
    "print(f\"{n=}\")\n",
    "print(f\"{exact/n=:.3f}\")"
   ]
  },
  {
   "cell_type": "code",
   "execution_count": 5,
   "metadata": {},
   "outputs": [
    {
     "data": {
      "text/plain": [
       "Text(0, 0.5, 'Number of Contacts')"
      ]
     },
     "execution_count": 5,
     "metadata": {},
     "output_type": "execute_result"
    },
    {
     "data": {
      "image/png": "[encoded data removed]",
      "text/plain": [
       "<Figure size 600x300 with 1 Axes>"
      ]
     },
     "metadata": {
      "needs_background": "light"
     },
     "output_type": "display_data"
    }
   ],
   "source": [
    "# look at distribution of distances between fragments on read\n",
    "\n",
    "plt.rcParams['figure.dpi'] = 100\n",
    "plt.rcParams['figure.figsize'] = 6, 3\n",
    "\n",
    "\n",
    "tmp = df[df['contact_is_direct'] == True]\n",
    "\n",
    "lb = -2000\n",
    "ub = 2000\n",
    "\n",
    "tmp = tmp[(tmp['contact_read_distance'] >= lb) & (tmp['contact_read_distance'] <= ub) ]\n",
    "\n",
    "plt.hist(tmp['contact_read_distance'], edgecolor='k', bins=30, color='orange')\n",
    "\n",
    "\n",
    "plt.title('Distance Between Contacts on Read')\n",
    "plt.xlabel('Distance (bp)')\n",
    "plt.ylabel('Number of Contacts')\n",
    "\n"
   ]
  },
  {
   "cell_type": "code",
   "execution_count": 6,
   "metadata": {},
   "outputs": [
    {
     "data": {
      "text/html": [
       "<div>\n",
       "<style scoped>\n",
       "    .dataframe tbody tr th:only-of-type {\n",
       "        vertical-align: middle;\n",
       "    }\n",
       "\n",
       "    .dataframe tbody tr th {\n",
       "        vertical-align: top;\n",
       "    }\n",
       "\n",
       "    .dataframe thead th {\n",
       "        text-align: right;\n",
       "    }\n",
       "</style>\n",
       "<table border=\"1\" class=\"dataframe\">\n",
       "  <thead>\n",
       "    <tr style=\"text-align: right;\">\n",
       "      <th></th>\n",
       "      <th>Chromosome</th>\n",
       "      <th>Total length</th>\n",
       "      <th>GenBank accession</th>\n",
       "      <th>RefSeq accession</th>\n",
       "    </tr>\n",
       "  </thead>\n",
       "  <tbody>\n",
       "    <tr>\n",
       "      <th>0</th>\n",
       "      <td>1</td>\n",
       "      <td>195154279</td>\n",
       "      <td>CM000994.3</td>\n",
       "      <td>NC_000067.7</td>\n",
       "    </tr>\n",
       "    <tr>\n",
       "      <th>1</th>\n",
       "      <td>2</td>\n",
       "      <td>181755017</td>\n",
       "      <td>CM000995.3</td>\n",
       "      <td>NC_000068.8</td>\n",
       "    </tr>\n",
       "    <tr>\n",
       "      <th>2</th>\n",
       "      <td>3</td>\n",
       "      <td>159745316</td>\n",
       "      <td>CM000996.3</td>\n",
       "      <td>NC_000069.7</td>\n",
       "    </tr>\n",
       "    <tr>\n",
       "      <th>3</th>\n",
       "      <td>4</td>\n",
       "      <td>156860686</td>\n",
       "      <td>CM000997.3</td>\n",
       "      <td>NC_000070.7</td>\n",
       "    </tr>\n",
       "    <tr>\n",
       "      <th>4</th>\n",
       "      <td>5</td>\n",
       "      <td>151758149</td>\n",
       "      <td>CM000998.3</td>\n",
       "      <td>NC_000071.7</td>\n",
       "    </tr>\n",
       "    <tr>\n",
       "      <th>5</th>\n",
       "      <td>6</td>\n",
       "      <td>149588044</td>\n",
       "      <td>CM000999.3</td>\n",
       "      <td>NC_000072.7</td>\n",
       "    </tr>\n",
       "    <tr>\n",
       "      <th>6</th>\n",
       "      <td>7</td>\n",
       "      <td>144995196</td>\n",
       "      <td>CM001000.3</td>\n",
       "      <td>NC_000073.7</td>\n",
       "    </tr>\n",
       "    <tr>\n",
       "      <th>7</th>\n",
       "      <td>8</td>\n",
       "      <td>130127694</td>\n",
       "      <td>CM001001.3</td>\n",
       "      <td>NC_000074.7</td>\n",
       "    </tr>\n",
       "    <tr>\n",
       "      <th>8</th>\n",
       "      <td>9</td>\n",
       "      <td>124359700</td>\n",
       "      <td>CM001002.3</td>\n",
       "      <td>NC_000075.7</td>\n",
       "    </tr>\n",
       "    <tr>\n",
       "      <th>9</th>\n",
       "      <td>10</td>\n",
       "      <td>130530862</td>\n",
       "      <td>CM001003.3</td>\n",
       "      <td>NC_000076.7</td>\n",
       "    </tr>\n",
       "    <tr>\n",
       "      <th>10</th>\n",
       "      <td>11</td>\n",
       "      <td>121973369</td>\n",
       "      <td>CM001004.3</td>\n",
       "      <td>NC_000077.7</td>\n",
       "    </tr>\n",
       "    <tr>\n",
       "      <th>11</th>\n",
       "      <td>12</td>\n",
       "      <td>120092757</td>\n",
       "      <td>CM001005.3</td>\n",
       "      <td>NC_000078.7</td>\n",
       "    </tr>\n",
       "    <tr>\n",
       "      <th>12</th>\n",
       "      <td>13</td>\n",
       "      <td>120883175</td>\n",
       "      <td>CM001006.3</td>\n",
       "      <td>NC_000079.7</td>\n",
       "    </tr>\n",
       "    <tr>\n",
       "      <th>13</th>\n",
       "      <td>14</td>\n",
       "      <td>125139656</td>\n",
       "      <td>CM001007.3</td>\n",
       "      <td>NC_000080.7</td>\n",
       "    </tr>\n",
       "    <tr>\n",
       "      <th>14</th>\n",
       "      <td>15</td>\n",
       "      <td>104073951</td>\n",
       "      <td>CM001008.3</td>\n",
       "      <td>NC_000081.7</td>\n",
       "    </tr>\n",
       "    <tr>\n",
       "      <th>15</th>\n",
       "      <td>16</td>\n",
       "      <td>98008968</td>\n",
       "      <td>CM001009.3</td>\n",
       "      <td>NC_000082.7</td>\n",
       "    </tr>\n",
       "    <tr>\n",
       "      <th>16</th>\n",
       "      <td>17</td>\n",
       "      <td>95294699</td>\n",
       "      <td>CM001010.3</td>\n",
       "      <td>NC_000083.7</td>\n",
       "    </tr>\n",
       "    <tr>\n",
       "      <th>17</th>\n",
       "      <td>18</td>\n",
       "      <td>90720763</td>\n",
       "      <td>CM001011.3</td>\n",
       "      <td>NC_000084.7</td>\n",
       "    </tr>\n",
       "    <tr>\n",
       "      <th>18</th>\n",
       "      <td>19</td>\n",
       "      <td>61420004</td>\n",
       "      <td>CM001012.3</td>\n",
       "      <td>NC_000085.7</td>\n",
       "    </tr>\n",
       "    <tr>\n",
       "      <th>19</th>\n",
       "      <td>X</td>\n",
       "      <td>169476592</td>\n",
       "      <td>CM001013.3</td>\n",
       "      <td>NC_000086.8</td>\n",
       "    </tr>\n",
       "    <tr>\n",
       "      <th>20</th>\n",
       "      <td>Y</td>\n",
       "      <td>91455967</td>\n",
       "      <td>CM001014.3</td>\n",
       "      <td>NC_000087.8</td>\n",
       "    </tr>\n",
       "  </tbody>\n",
       "</table>\n",
       "</div>"
      ],
      "text/plain": [
       "   Chromosome  Total length GenBank accession RefSeq accession\n",
       "0           1     195154279        CM000994.3      NC_000067.7\n",
       "1           2     181755017        CM000995.3      NC_000068.8\n",
       "2           3     159745316        CM000996.3      NC_000069.7\n",
       "3           4     156860686        CM000997.3      NC_000070.7\n",
       "4           5     151758149        CM000998.3      NC_000071.7\n",
       "5           6     149588044        CM000999.3      NC_000072.7\n",
       "6           7     144995196        CM001000.3      NC_000073.7\n",
       "7           8     130127694        CM001001.3      NC_000074.7\n",
       "8           9     124359700        CM001002.3      NC_000075.7\n",
       "9          10     130530862        CM001003.3      NC_000076.7\n",
       "10         11     121973369        CM001004.3      NC_000077.7\n",
       "11         12     120092757        CM001005.3      NC_000078.7\n",
       "12         13     120883175        CM001006.3      NC_000079.7\n",
       "13         14     125139656        CM001007.3      NC_000080.7\n",
       "14         15     104073951        CM001008.3      NC_000081.7\n",
       "15         16      98008968        CM001009.3      NC_000082.7\n",
       "16         17      95294699        CM001010.3      NC_000083.7\n",
       "17         18      90720763        CM001011.3      NC_000084.7\n",
       "18         19      61420004        CM001012.3      NC_000085.7\n",
       "19          X     169476592        CM001013.3      NC_000086.8\n",
       "20          Y      91455967        CM001014.3      NC_000087.8"
      ]
     },
     "execution_count": 6,
     "metadata": {},
     "output_type": "execute_result"
    }
   ],
   "source": [
    "assembly = pd.read_csv(\"GRCm39_Assembly.txt\")\n",
    "assembly"
   ]
  },
  {
   "cell_type": "code",
   "execution_count": 7,
   "metadata": {},
   "outputs": [
    {
     "data": {
      "text/plain": [
       "'\\nNOTE: there is no sort order between align1 and align2 and fragments can be in either column\\n'"
      ]
     },
     "execution_count": 7,
     "metadata": {},
     "output_type": "execute_result"
    }
   ],
   "source": [
    "\"\"\"\n",
    "NOTE: there is no sort order between align1 and align2 and fragments can be in either column\n",
    "\"\"\"\n",
    "\n",
    "# g = []\n",
    "\n",
    "# for frag in df['align1_fragment_id']:\n",
    "#     if frag in df['align2_fragment_id']:\n",
    "#         g.append(1)\n",
    "#     else:\n",
    "#         g.append(0)\n",
    "        \n",
    "# np.sum(g) / len(g)"
   ]
  },
  {
   "cell_type": "markdown",
   "metadata": {},
   "source": [
    "# Contact Filters"
   ]
  },
  {
   "cell_type": "code",
   "execution_count": 8,
   "metadata": {},
   "outputs": [
    {
     "name": "stdout",
     "output_type": "stream",
     "text": [
      "df.shape=(10525887, 38)\n",
      "df.shape=(4695701, 38)\n"
     ]
    }
   ],
   "source": [
    "# mapping quality filter\n",
    "\n",
    "def mapQFilter(df, mapQ=30):\n",
    "    mask = (df['align1_mapping_quality'] >= mapQ) & (df['align2_mapping_quality'] >= mapQ)\n",
    "    df = df[mask].reset_index(drop=True)\n",
    "    return df\n",
    "    \n",
    "    \n",
    "print(f\"{df.shape=}\")\n",
    "df = mapQFilter(df)\n",
    "print(f\"{df.shape=}\")"
   ]
  },
  {
   "cell_type": "code",
   "execution_count": 9,
   "metadata": {},
   "outputs": [
    {
     "name": "stdout",
     "output_type": "stream",
     "text": [
      "df.shape=(4695701, 38)\n",
      "df.shape=(1079980, 38)\n"
     ]
    }
   ],
   "source": [
    "# a filter for direct contacts too far away on the read\n",
    "\n",
    "def distalContactFilter(df, read_distance=1000):\n",
    "    \n",
    "    mask = (np.abs(df['contact_read_distance']) <= read_distance) & (df['contact_is_direct'] == True)\n",
    "    df = df[mask].reset_index(drop=True)\n",
    "    return df\n",
    "\n",
    "print(f\"{df.shape=}\")\n",
    "df = distalContactFilter(df)\n",
    "print(f\"{df.shape=}\")"
   ]
  },
  {
   "cell_type": "code",
   "execution_count": 10,
   "metadata": {},
   "outputs": [
    {
     "name": "stdout",
     "output_type": "stream",
     "text": [
      "df.shape=(1079980, 38)\n",
      "df.shape=(373554, 38)\n"
     ]
    }
   ],
   "source": [
    "# contacts within 1kb ON THE REFERENCE are assumed to be amplification bias\n",
    "\n",
    "def closeContactFilter(df, genome_distance=1000):\n",
    "    \"\"\"cis contacts only \"\"\"\n",
    "    mask = (np.abs(df['contact_genome_distance']) >= genome_distance)\n",
    "    df = df[mask].reset_index(drop=True)\n",
    "    return df\n",
    "\n",
    "\n",
    "print(f\"{df.shape=}\")\n",
    "df = closeContactFilter(df)\n",
    "print(f\"{df.shape=}\")"
   ]
  },
  {
   "cell_type": "code",
   "execution_count": 11,
   "metadata": {},
   "outputs": [
    {
     "name": "stdout",
     "output_type": "stream",
     "text": [
      "df.shape=(373554, 38)\n",
      "df.shape=(99979, 40)\n"
     ]
    }
   ],
   "source": [
    "# filter duplicate contacts: does this make sense? the contact with the higest average MAPQ is retained\n",
    "\n",
    "def duplicateContactFilter(df, retain=1):\n",
    "    # retain == 1 is unique contacts\n",
    "\n",
    "    df['mean_mapping_quality'] = (df['align1_mapping_quality'] + df['align2_mapping_quality']) / 2\n",
    "    \n",
    "    df = df.sort_values(by=['align1_fragment_id', \n",
    "                            'align2_fragment_id', \n",
    "                            'mean_mapping_quality'], ascending=False)\n",
    "    \n",
    "    df['contact_count'] = df.groupby([\"align1_fragment_id\", \"align2_fragment_id\"])[\"read_name\"].transform(\"cumcount\")\n",
    "    df['contact_count'] = df['contact_count'] + 1\n",
    "\n",
    "    mask = (df['contact_count'] <= retain)\n",
    "    df = df[mask]\n",
    "    return df\n",
    "    \n",
    "\n",
    "print(f\"{df.shape=}\")\n",
    "df = duplicateContactFilter(df, retain=1)\n",
    "print(f\"{df.shape=}\")"
   ]
  },
  {
   "cell_type": "code",
   "execution_count": 12,
   "metadata": {},
   "outputs": [
    {
     "name": "stdout",
     "output_type": "stream",
     "text": [
      "df.shape=(99979, 40)\n",
      "lowFrequencyProducts.shape=(33376, 43) (0.334)\n",
      "amplificationBiasProducts.shape=(66603, 43) (0.666)\n",
      "readsPerFragment1.shape=(66603, 2)\n",
      "readsPerFragment2.shape=(66603, 2)\n",
      "readsPerFragment.shape=(133206, 2)\n",
      "np.sum(~mask)=66603\n",
      "df.shape=(33376, 46)\n",
      "testCounts.most_common(1)=[(12876543, 2)]\n"
     ]
    }
   ],
   "source": [
    "# for single cells, there can be at most 2 copies of any sequence (ligation product)\n",
    "\n",
    "def getFragmentCounts(df):\n",
    "    allFragments = df['align1_fragment_id'].tolist() + df['align2_fragment_id'].tolist()\n",
    "    return Counter(allFragments)\n",
    "    \n",
    "\n",
    "def ligationProductFilter(df, nProducts=2, verbose=True):\n",
    "    \n",
    "    # get fragment counts\n",
    "    countTranslation = dict(getFragmentCounts(df))\n",
    "\n",
    "    df['align1_fragcount'] = df['align1_fragment_id'].map(countTranslation)\n",
    "    df['align2_fragcount'] = df['align2_fragment_id'].map(countTranslation)\n",
    "\n",
    "    mask = (df['align1_fragcount'] <= nProducts) & (df['align2_fragcount'] <= nProducts)\n",
    "\n",
    "    # divide into contacts with less than n replicates and more than n replicates\n",
    "    lowFrequencyProducts = df[mask].reset_index()\n",
    "    amplificationBiasProducts = df[~mask].reset_index()\n",
    "    \n",
    "    # count the number of unique reads per fragment\n",
    "    readsPerFragment1 = amplificationBiasProducts[['read_name', 'align1_fragment_id']]\n",
    "    readsPerFragment2 = amplificationBiasProducts[['read_name', 'align2_fragment_id']]\n",
    "    \n",
    "    readsPerFragment1.columns = ['read_name', 'fragment_id']\n",
    "    readsPerFragment2.columns = ['read_name', 'fragment_id']\n",
    "\n",
    "    readsPerFragment = pd.concat([readsPerFragment1, readsPerFragment2], ignore_index=True)\n",
    "    \n",
    "    if verbose:\n",
    "        print(f\"{lowFrequencyProducts.shape=} ({len(lowFrequencyProducts)/len(df):.3f})\")\n",
    "        print(f\"{amplificationBiasProducts.shape=} ({len(amplificationBiasProducts)/len(df):.3f})\")\n",
    "\n",
    "        print(f\"{readsPerFragment1.shape=}\")\n",
    "        print(f\"{readsPerFragment2.shape=}\")\n",
    "        print(f\"{readsPerFragment.shape=}\")\n",
    "    \n",
    "    readsPerFragment['n_reads'] = readsPerFragment.groupby('fragment_id')[\"read_name\"].transform('nunique')\n",
    "    readsPerFragmentMappable = readsPerFragment[['fragment_id', 'n_reads']].to_dict()\n",
    "    \n",
    "    # map the number of reads an individual fragment appears in\n",
    "    amplificationBiasProducts['align_1_n_reads'] = amplificationBiasProducts['align1_fragment_id'].map(readsPerFragmentMappable)\n",
    "    amplificationBiasProducts['align_2_n_reads'] = amplificationBiasProducts['align2_fragment_id'].map(readsPerFragmentMappable)\n",
    "    \n",
    "    # throw away all contacts which appear in more than n reads \n",
    "    mask = (amplificationBiasProducts['align_1_n_reads'] <= nProducts) & (amplificationBiasProducts['align_2_n_reads'] <= nProducts)\n",
    "    \n",
    "    toKeep = amplificationBiasProducts[mask].reset_index()\n",
    "    trash = amplificationBiasProducts[~mask].reset_index()\n",
    "    \n",
    "    if verbose:\n",
    "            print(f\"{toKeep.shape=}\")\n",
    "            print(f\"{trash.shape=}\")\n",
    "    \n",
    "    df = pd.concat([lowFrequencyProducts, toKeep])\n",
    "    \n",
    "    return df\n",
    "    \n",
    "\n",
    "    \n",
    "print(f\"{df.shape=}\")\n",
    "df = ligationProductFilter(df)\n",
    "print(f\"{df.shape=}\")\n",
    "\n",
    "testCounts = getFragmentCounts(df)\n",
    "print(f\"{testCounts.most_common(1)=}\")\n"
   ]
  },
  {
   "cell_type": "code",
   "execution_count": 13,
   "metadata": {},
   "outputs": [],
   "source": [
    "break"
   ]
  },
  {
   "cell_type": "markdown",
   "metadata": {},
   "source": [
    "# Chromosome Selection"
   ]
  },
  {
   "cell_type": "code",
   "execution_count": 14,
   "metadata": {},
   "outputs": [
    {
     "name": "stdout",
     "output_type": "stream",
     "text": [
      "chr2.shape=(2733, 46)\n"
     ]
    }
   ],
   "source": [
    "# subset the data to a single chromosome\n",
    "chomosome = 2\n",
    "chrom_assembly = assembly.loc[assembly['Chromosome'] == str(chomosome)]\n",
    "refseq = chrom_assembly['RefSeq accession'].tolist()[0].strip()\n",
    "\n",
    "def filterChomosome(df, refseq):\n",
    "    mask = (df['align1_chrom'] == refseq) & (df['align2_chrom'] == refseq)\n",
    "    df = df[mask].reset_index(drop=True)\n",
    "    return df\n",
    "    \n",
    "    \n",
    "chr2 = filterChomosome(df, refseq)\n",
    "print(f\"{chr2.shape=}\")"
   ]
  },
  {
   "cell_type": "markdown",
   "metadata": {},
   "source": [
    "# Added Features"
   ]
  },
  {
   "cell_type": "code",
   "execution_count": 15,
   "metadata": {},
   "outputs": [],
   "source": [
    "# add the cardinality of the hyperedge\n",
    "chr2['edgeOrder'] = chr2.groupby([\"read_name\"])[\"align2_fragment_id\"].transform(\"count\")"
   ]
  },
  {
   "cell_type": "markdown",
   "metadata": {},
   "source": [
    "# Binning"
   ]
  },
  {
   "cell_type": "code",
   "execution_count": 16,
   "metadata": {},
   "outputs": [
    {
     "name": "stdout",
     "output_type": "stream",
     "text": [
      "len(bins)=182\n",
      "chr21mb['align1_bin'].min()=2\n",
      "chr21mb['align1_bin'].max()=180\n",
      "chr21mb['align2_bin'].min()=2\n",
      "chr21mb['align2_bin'].max()=180\n"
     ]
    }
   ],
   "source": [
    "chrom_length = chrom_assembly['Total length'].tolist()[0]\n",
    "# scale = 100000 #100kb scale\n",
    "scale = 1000000 # 1mb scale\n",
    "\n",
    "\n",
    "def getBins(chrom_length, scale):\n",
    "    n = int(np.ceil(chrom_length / scale))    \n",
    "    bins = [scale]\n",
    "    \n",
    "    for i in range(n-1):\n",
    "        next_bin = bins[i] + scale\n",
    "        bins.append(next_bin)\n",
    "        \n",
    "    return np.array(bins)\n",
    "\n",
    "\n",
    "def returnBin(position, bins):\n",
    "    idx = np.min(np.argwhere(bins > position))\n",
    "    return idx - 1 \n",
    "\n",
    "\n",
    "def binData(df, bins):\n",
    "    df['align1_bin'] = df['align1_fragment_start'].apply(lambda x: returnBin(x, bins))\n",
    "    df['align2_bin'] = df['align2_fragment_start'].apply(lambda x: returnBin(x, bins))\n",
    "    return df\n",
    "    \n",
    "\n",
    "bins = getBins(chrom_length, scale)\n",
    "print(f\"{len(bins)=}\")\n",
    "\n",
    "\n",
    "chr21mb = binData(chr2, bins)\n",
    "print(f\"{chr21mb['align1_bin'].min()=}\")\n",
    "print(f\"{chr21mb['align1_bin'].max()=}\")\n",
    "\n",
    "print(f\"{chr21mb['align2_bin'].min()=}\")\n",
    "print(f\"{chr21mb['align2_bin'].max()=}\")\n",
    "    "
   ]
  },
  {
   "cell_type": "markdown",
   "metadata": {},
   "source": [
    "# Construct pseudo Hi-C Matrices"
   ]
  },
  {
   "cell_type": "code",
   "execution_count": 17,
   "metadata": {},
   "outputs": [
    {
     "name": "stdout",
     "output_type": "stream",
     "text": [
      "A.shape=(182, 182)\n"
     ]
    },
    {
     "data": {
      "text/plain": [
       "array([  0, 175, 181,   1, 179, 174, 180, 122, 162, 156, 170, 152, 158,\n",
       "        68, 176, 164, 177, 110, 159, 165,  32,  98, 161,  25,  92, 172,\n",
       "       167, 115, 178,  94, 157, 173,  31, 154, 171, 100, 134,  30,  91,\n",
       "       136, 123,  45, 155,  70, 101,  61, 135, 105, 168, 129,  71,  96,\n",
       "       132, 116,  53, 166,  69,  95, 153,  26,  52,  24,  48, 141,  97,\n",
       "        74,  17,   4,  77,  13,  85,   8,  43,  60,  87, 102, 117,  93,\n",
       "       118, 108,  84, 151,  44,  66,  34,  42, 126,  58,  29,  51,  15,\n",
       "       149,  11,  62,  65,  99, 146, 107, 133, 169,  23, 106, 148,  27,\n",
       "         2,  63, 131,   3,  18,  41, 147,   9, 119, 143,  14,  76,  10,\n",
       "       113,  78,  46, 160,  39,  21, 145,  40,  54,  49,  73,  28,  89,\n",
       "        82,   6,  67, 120,  33,  88, 150, 109,  16,  80,  47,  86,   5,\n",
       "        57,  64, 163,  22,  72,  37, 114, 104, 142,  35,  59, 138,  12,\n",
       "       124,  20, 111, 127, 103, 144,  50,  83,  90, 125, 137,  19, 121,\n",
       "         7, 130,  75,  56, 112,  36,  38, 140,  81, 128, 139,  79,  55])"
      ]
     },
     "execution_count": 17,
     "metadata": {},
     "output_type": "execute_result"
    }
   ],
   "source": [
    "def constructHiC(df, bins, binary=False):\n",
    "    A = np.zeros((len(bins), len(bins)))\n",
    "    \n",
    "    for ind, row in df.iterrows():\n",
    "        i = row['align1_bin']\n",
    "        j = row['align2_bin']\n",
    "        A[i, j] = A[i, j] + 1\n",
    "        A[j, i] = A[j, i] + 1\n",
    "        \n",
    "    if binary:\n",
    "        A = np.where(A > 0, 1, 0)\n",
    "    return A\n",
    "\n",
    "A = constructHiC(chr2, bins, binary=False)\n",
    "print(f\"{A.shape=}\")\n",
    "\n",
    "np.argsort(np.sum(A, axis=0))\n",
    "    "
   ]
  },
  {
   "cell_type": "code",
   "execution_count": 18,
   "metadata": {},
   "outputs": [
    {
     "data": {
      "text/plain": [
       "[(1755478, 2), (1755120, 2), (1754929, 2), (1754731, 2), (1754601, 2)]"
      ]
     },
     "execution_count": 18,
     "metadata": {},
     "output_type": "execute_result"
    }
   ],
   "source": [
    "testBin = chr2[(chr2['align1_bin'] == 169) | (chr2['align2_bin'] == 169) ]\n",
    "\n",
    "allFragments = testBin['align1_fragment_id'].tolist() + testBin['align2_fragment_id'].tolist()\n",
    "\n",
    "counts = Counter(allFragments)\n",
    "\n",
    "counts.most_common(5)\n",
    "\n",
    "# testBin['contact_count'] = testBin.groupby('read_name')['align2_fragment_start'].transform('count')\n",
    "# testBin['contact_count'].hist()\n"
   ]
  },
  {
   "cell_type": "markdown",
   "metadata": {},
   "source": [
    "# Plottting"
   ]
  },
  {
   "cell_type": "code",
   "execution_count": 19,
   "metadata": {},
   "outputs": [],
   "source": [
    "# plt.rcParams['figure.dpi'] = 100\n",
    "# sns.heatmap(np.log(A))\n",
    "# plt.gca().set_aspect('equal', adjustable='box')"
   ]
  },
  {
   "cell_type": "code",
   "execution_count": 20,
   "metadata": {},
   "outputs": [
    {
     "data": {
      "image/png": "[encoded data removed]",
      "text/plain": [
       "<Figure size 600x600 with 1 Axes>"
      ]
     },
     "metadata": {
      "needs_background": "light"
     },
     "output_type": "display_data"
    }
   ],
   "source": [
    "def plotHiCscatter(df, params):\n",
    "    \n",
    "    plt.rcParams['figure.dpi'] = params['figdpi']\n",
    "    plt.rcParams['figure.figsize'] = params['figsize']\n",
    "\n",
    "    \n",
    "    plt.scatter(df['align2_bin'], df['align1_bin'], \n",
    "                marker='s', \n",
    "                s=params['size'], \n",
    "                alpha=params['alpha'], \n",
    "                c=params['color'])\n",
    "\n",
    "\n",
    "    plt.scatter(df['align1_bin'], \n",
    "                df['align2_bin'], \n",
    "                marker='s', \n",
    "                s=params['size'], \n",
    "                alpha=params['alpha'], \n",
    "                c=params['color'])\n",
    "\n",
    "    plt.xlim(0, len(bins))\n",
    "    plt.ylim(len(bins), 0)\n",
    "    ax = plt.gca() # Get current axes object\n",
    "    ax.xaxis.set_ticks_position('top')\n",
    "    ax.xaxis.set_ticks_position('bottom')\n",
    "    ax.yaxis.set_ticks_position('left')\n",
    "    plt.gca().set_aspect('equal', adjustable='box')\n",
    "\n",
    "    \n",
    "params = {\n",
    "    'figdpi' : 100,\n",
    "    'figsize' : (6,6),\n",
    "    'size' : 1,\n",
    "    'alpha' : 1,\n",
    "#     'color' : np.log(df['edgeOrder']),\n",
    "    'color' : 'darkblue',\n",
    "}\n",
    "\n",
    "# plt.set_cmap('gnuplot_r')\n",
    "plotHiCscatter(chr2, params)\n",
    "\n",
    "\n",
    "# clb = plt.colorbar(fraction=0.046, pad=0.04, ticks=[np.min(np.log(df['edgeOrder'])), np.max(np.log(df['edgeOrder']))])\n",
    "# clb.ax.set_yticklabels(['low', 'high'])\n",
    "# clb.ax.set_title('Contact Order',fontsize=8)"
   ]
  },
  {
   "cell_type": "code",
   "execution_count": null,
   "metadata": {},
   "outputs": [],
   "source": []
  }
 ],
 "metadata": {
  "kernelspec": {
   "display_name": "Python 3",
   "language": "python",
   "name": "python3"
  },
  "language_info": {
   "codemirror_mode": {
    "name": "ipython",
    "version": 3
   },
   "file_extension": ".py",
   "mimetype": "text/x-python",
   "name": "python",
   "nbconvert_exporter": "python",
   "pygments_lexer": "ipython3",
   "version": "3.8.3"
  }
 },
 "nbformat": 4,
 "nbformat_minor": 4
}
