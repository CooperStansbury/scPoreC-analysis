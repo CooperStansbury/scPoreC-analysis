{
 "cells": [
  {
   "cell_type": "code",
   "execution_count": null,
   "metadata": {},
   "outputs": [],
   "source": [
    "import pandas as pd\n",
    "import numpy as np\n",
    "import matplotlib.pyplot as plt\n",
    "from matplotlib.ticker import EngFormatter\n",
    "bp_formatter = EngFormatter('b')\n",
    "import seaborn as sns\n",
    "import math\n",
    "from scipy import stats\n",
    "import cooler\n",
    "import cooltools.lib.plotting\n",
    "from cooltools import insulation\n",
    "\n",
    "import itertools\n",
    "\n",
    "import os\n",
    "import sys\n",
    "\n",
    "# local imports \n",
    "import filters\n",
    "import pore_c_utils as pcu"
   ]
  },
  {
   "cell_type": "code",
   "execution_count": null,
   "metadata": {},
   "outputs": [],
   "source": [
    "dirpath = \"/nfs/turbo/umms-indikar/shared/tools/Pore-C-Snakemake/results_ES5to12/matrix/\"\n",
    "cell = \"run07\"\n",
    "\n",
    "filepath = f\"{dirpath}NlaIII_{cell}_GRCm39_unphased.matrix.mcool\"\n",
    "print(filepath)"
   ]
  },
  {
   "cell_type": "code",
   "execution_count": null,
   "metadata": {},
   "outputs": [],
   "source": [
    "cooler.fileops.list_coolers(filepath)"
   ]
  },
  {
   "cell_type": "markdown",
   "metadata": {},
   "source": [
    "# File Load"
   ]
  },
  {
   "cell_type": "code",
   "execution_count": null,
   "metadata": {},
   "outputs": [],
   "source": [
    "# resolution = 1000000 # 1MB\n",
    "resolution = 100000 # 1 kb\n",
    "\n",
    "clr = cooler.Cooler(f'{filepath}::resolutions/{resolution}')"
   ]
  },
  {
   "cell_type": "code",
   "execution_count": null,
   "metadata": {},
   "outputs": [],
   "source": [
    "### to make a list of chromosome start/ends in bins:\n",
    "chromstarts = []\n",
    "for i in clr.chromnames:\n",
    "    print(f'{i} : {clr.extent(i)}')\n",
    "    chromstarts.append(clr.extent(i)[0])"
   ]
  },
  {
   "cell_type": "code",
   "execution_count": null,
   "metadata": {},
   "outputs": [],
   "source": [
    "def format_ticks(ax, x=True, y=True, rotate=True):\n",
    "    if y:\n",
    "        ax.yaxis.set_major_formatter(bp_formatter)\n",
    "    if x:\n",
    "        ax.xaxis.set_major_formatter(bp_formatter)\n",
    "        ax.xaxis.tick_bottom()\n",
    "    if rotate:\n",
    "        ax.tick_params(axis='x',rotation=45)"
   ]
  },
  {
   "cell_type": "code",
   "execution_count": null,
   "metadata": {},
   "outputs": [],
   "source": [
    "assembly = pcu.loadAssembly(\"GRCm39_Assembly.txt\")\n",
    "assembly"
   ]
  },
  {
   "cell_type": "code",
   "execution_count": null,
   "metadata": {},
   "outputs": [],
   "source": [
    "chromMap = dict(zip(assembly['RefSeq accession'], assembly['Chromosome']))\n",
    "chromMap"
   ]
  },
  {
   "cell_type": "code",
   "execution_count": null,
   "metadata": {},
   "outputs": [],
   "source": []
  },
  {
   "cell_type": "code",
   "execution_count": null,
   "metadata": {},
   "outputs": [],
   "source": [
    "def plotHicMatrixChromosome(clr, chromosome, log=False, balance=False):\n",
    "    \n",
    "    A = clr.matrix(balance=balance).fetch(chromosome)\n",
    "    if log:\n",
    "        A = np.ma.log(A).filled(0) # log scale\n",
    "\n",
    "    im = plt.matshow(\n",
    "        A,\n",
    "        extent=(0,clr.chromsizes[chromosome], clr.chromsizes[chromosome], 0),\n",
    "        cmap='Reds'\n",
    "    );\n",
    "\n",
    "    if log:\n",
    "        plt.colorbar(im, fraction=0.046, pad=0.04, label='Counts (log)');\n",
    "    elif balance:\n",
    "        plt.colorbar(im, fraction=0.046, pad=0.04, label='Counts (normalized)');\n",
    "    else:\n",
    "        plt.colorbar(im, fraction=0.046, pad=0.04, label='Counts');\n",
    "        \n",
    "    ax = plt.gca()\n",
    "    format_ticks(ax)\n",
    "\n",
    "\n",
    "    \n",
    "chrom = 'NC_000068.8'\n",
    "    \n",
    "plt.rcParams['figure.dpi'] = 200\n",
    "plt.rcParams['figure.figsize'] = 8, 8\n",
    "\n",
    "plotHicMatrixChromosome(clr, chrom, log=True, balance=False)\n",
    "titleString = f\"Chromosome {chromMap[chrom]}\"\n",
    "plt.title(titleString)\n",
    "plt.ylabel('Position (Mb)')\n"
   ]
  },
  {
   "cell_type": "code",
   "execution_count": null,
   "metadata": {},
   "outputs": [],
   "source": [
    "# break"
   ]
  },
  {
   "cell_type": "markdown",
   "metadata": {},
   "source": [
    "# KR Balancing"
   ]
  },
  {
   "cell_type": "code",
   "execution_count": null,
   "metadata": {},
   "outputs": [],
   "source": [
    "bias, stats = cooler.balance_cooler(clr, rescale_marginals=True)\n",
    "\n",
    "clr.bins()[:]['weight'] = bias\n",
    "clr.bins()[:3]"
   ]
  },
  {
   "cell_type": "code",
   "execution_count": null,
   "metadata": {},
   "outputs": [],
   "source": [
    "chrom = 'NC_000068.8'\n",
    "    \n",
    "plt.rcParams['figure.dpi'] = 200\n",
    "plt.rcParams['figure.figsize'] = 8, 8\n",
    "\n",
    "plotHicMatrixChromosome(clr, chrom, log=False, balance=True)\n",
    "titleString = f\"Chromosome {chromMap[chrom]}\"\n",
    "plt.title(titleString)\n",
    "plt.ylabel('Position (Mb)')"
   ]
  },
  {
   "cell_type": "code",
   "execution_count": null,
   "metadata": {},
   "outputs": [],
   "source": [
    "\n",
    "\n",
    "def plotCoverageChromosome(clr, chrom, log=True):\n",
    "    cis_coverage, tot_coverage = cooltools.coverage(clr)\n",
    "    extent = clr.extent(chrom)\n",
    "    \n",
    "    if log:\n",
    "        cis_coverage = np.ma.log(cis_coverage)\n",
    "        tot_coverage = np.ma.log(tot_coverage)\n",
    "    \n",
    "        plt.plot(cis_coverage[extent[0]:extent[1]], label='cis Coverage (log)')\n",
    "        plt.plot(tot_coverage[extent[0]:extent[1]], label='Total Coverage (log)')\n",
    "    else:        \n",
    "        plt.plot(cis_coverage[extent[0]:extent[1]], label='cis Coverage')\n",
    "        plt.plot(tot_coverage[extent[0]:extent[1]], label='Total Coverage')\n",
    "    plt.legend()\n",
    "    \n",
    "    \n",
    "    \n",
    "plt.rcParams['figure.dpi'] = 200\n",
    "plt.rcParams['figure.figsize'] = 8, 4\n",
    "plotCoverageChromosome(clr, chrom)\n",
    "titleString = f\"Chromosome {chromMap[chrom]} Coverage\"\n",
    "plt.title(titleString)\n",
    "plt.ylabel('Coverage (log)')\n",
    "plt.xlabel('Position (Mb)')\n"
   ]
  },
  {
   "cell_type": "code",
   "execution_count": null,
   "metadata": {},
   "outputs": [],
   "source": [
    "cis_coverage, tot_coverage = cooltools.coverage(clr)\n",
    "extent = clr.extent(chrom)\n",
    "\n",
    "ratio = cis_coverage[extent[0]:extent[1]] / tot_coverage[extent[0]:extent[1]] \n",
    "plt.bar(range(len(ratio)), ratio)\n",
    "plt.title('Cis/Total Ratio')\n",
    "plt.ylabel('Cis Contacts / Total Contacts')\n",
    "plt.xlabel('Position (Mb)')"
   ]
  },
  {
   "cell_type": "code",
   "execution_count": null,
   "metadata": {},
   "outputs": [],
   "source": [
    "np.nanmean(ratio)"
   ]
  },
  {
   "cell_type": "markdown",
   "metadata": {},
   "source": [
    "# Smoothing"
   ]
  },
  {
   "cell_type": "code",
   "execution_count": null,
   "metadata": {},
   "outputs": [],
   "source": [
    "\n",
    "\n",
    "# cg = cooltools.lib.numutils.adaptive_coarsegrain(clr.matrix(balance=True).fetch(chrom),\n",
    "#                                                  clr.matrix(balance=False).fetch(chrom),\n",
    "#                                                  cutoff=10, \n",
    "#                                                  max_levels=20)\n",
    "\n",
    "# cgi = cooltools.lib.numutils.interp_nan(cg)\n",
    "\n",
    "# im = plt.matshow(\n",
    "#     cgi,\n",
    "#     extent=(0,clr.chromsizes[chrom], clr.chromsizes[chrom], 0),\n",
    "#     cmap='Reds'\n",
    "# );\n",
    "\n",
    "\n",
    "# ax = plt.gca()\n",
    "# format_ticks(ax)\n"
   ]
  },
  {
   "cell_type": "markdown",
   "metadata": {},
   "source": [
    "# Insulation"
   ]
  },
  {
   "cell_type": "code",
   "execution_count": null,
   "metadata": {},
   "outputs": [],
   "source": [
    "import cooltools.lib.plotting\n",
    "from cooltools import insulation\n",
    "\n",
    "from matplotlib.colors import LogNorm\n",
    "from mpl_toolkits.axes_grid1 import make_axes_locatable\n",
    "import bioframe"
   ]
  },
  {
   "cell_type": "code",
   "execution_count": null,
   "metadata": {},
   "outputs": [],
   "source": [
    "resolution = 100000\n",
    "\n",
    "clr = cooler.Cooler(f'{filepath}::resolutions/{resolution}')\n",
    "\n",
    "\n",
    "# balance the matrix\n",
    "bias, stats = cooler.balance_cooler(clr, rescale_marginals=True)\n",
    "clr.bins()[:]['weight'] = bias"
   ]
  },
  {
   "cell_type": "code",
   "execution_count": null,
   "metadata": {},
   "outputs": [],
   "source": [
    "windows = [3*resolution, 5*resolution, 10*resolution, 25*resolution]\n",
    "insulation_table = insulation(clr, windows, verbose=False)\n",
    "insulation_table.head()"
   ]
  },
  {
   "cell_type": "code",
   "execution_count": null,
   "metadata": {},
   "outputs": [],
   "source": [
    "def rotate45deg(data, resolution=1):\n",
    "    start_pos_vector = [0+resolution*i for i in range(len(data)+1)]\n",
    "    n = data.shape[0]\n",
    "    t = np.array([[1, 0.5], [-1, 0.5]])\n",
    "    A = np.dot(np.array([(i[1], i[0])\n",
    "                         for i in itertools.product(start_pos_vector[::-1],\n",
    "                                                           start_pos_vector)]), t)\n",
    "    x = A[:, 1].reshape(n + 1, n + 1)\n",
    "    y = A[:, 0].reshape(n + 1, n + 1)\n",
    "    \n",
    "    return x, y"
   ]
  },
  {
   "cell_type": "code",
   "execution_count": null,
   "metadata": {},
   "outputs": [],
   "source": [
    "# Functions to help with plotting\n",
    "def pcolormesh_45deg(ax, matrix_c, start=0, resolution=1, *args, **kwargs):\n",
    "    start_pos_vector = [start+resolution*i for i in range(len(matrix_c)+1)]\n",
    "    n = matrix_c.shape[0]\n",
    "    t = np.array([[1, 0.5], [-1, 0.5]])\n",
    "    matrix_a = np.dot(np.array([(i[1], i[0])\n",
    "                                for i in itertools.product(start_pos_vector[::-1],\n",
    "                                                           start_pos_vector)]), t)\n",
    "    x = matrix_a[:, 1].reshape(n + 1, n + 1)\n",
    "    y = matrix_a[:, 0].reshape(n + 1, n + 1)\n",
    "    im = ax.pcolormesh(x, y, np.flipud(matrix_c), *args, **kwargs)\n",
    "#     im.set_rasterized(True)\n",
    "    return im"
   ]
  },
  {
   "cell_type": "code",
   "execution_count": null,
   "metadata": {},
   "outputs": [],
   "source": [
    "insulation_table.columns"
   ]
  },
  {
   "cell_type": "code",
   "execution_count": null,
   "metadata": {},
   "outputs": [],
   "source": [
    "start = clr.extent(chrom)[0]\n",
    "end = clr.extent(chrom)[1]\n",
    "region = (chrom, start, end)\n",
    "ylim = 300 # in base pairs\n",
    "insultionValue = windows[1]\n",
    "insulationColumn = f'log2_insulation_score_{insultionValue}'\n",
    "boundaryColumn = f'is_boundary_{insultionValue}'\n",
    "\n",
    "\n",
    "# get region\n",
    "insul_region = bioframe.select(insulation_table, chrom)\n",
    "insul_region['midpoint'] = insul_region[['start', 'end']].mean(axis=1)\n",
    "isBoundary = insul_region[insul_region[boundaryColumn] == True]\n",
    "\n",
    "\n",
    "norm = LogNorm(vmax=100, vmin=0.0001)\n",
    "data = clr.matrix(balance=True).fetch(chrom)\n",
    "\n",
    "\n",
    "f, (ax1, ax2) = plt.subplots(2, 1, figsize=(10, 5))\n",
    "\n",
    "\n",
    "x, y = rotate45deg(data, resolution=1)\n",
    "ax1.pcolormesh(x, y, np.flipud(data), cmap='blues',  norm=norm)\n",
    "\n",
    "ax1.set_ylim(0, ylim)\n",
    "\n",
    "\n",
    "for bound in isBoundary['midpoint']:\n",
    "    binBound = bound / resolution\n",
    "    ax1.axvline(x=binBound, lw=0.5, ls=\"--\", c='r')\n",
    "\n",
    "format_ticks(ax1, rotate=False)\n",
    "\n",
    "\n",
    "# # plot insulation scores below\n",
    "ax2.plot(insul_region['start'],\n",
    "         insul_region[insulationColumn], \n",
    "         lw=0.5)\n",
    "\n",
    "\n",
    "ylimMin = np.nanpercentile(insul_region[insulationColumn], 0.5)\n",
    "# ylimMin = insul_region[insulationColumn].min()\n",
    "ax2.set_ylim(ylimMin, insul_region[insulationColumn].max())\n",
    "ax2.set_title(insulationColumn)\n",
    "\n",
    "# add boundary calling\n",
    "isBoundary = insul_region[insul_region[boundaryColumn] == True]\n",
    "\n",
    "ax2.scatter(isBoundary['start'],\n",
    "            isBoundary[insulationColumn], \n",
    "            c='r',\n",
    "            s=5)\n",
    "    \n",
    "\n",
    "format_ticks(ax2, y=False, rotate=False)\n",
    "\n",
    "plt.subplots_adjust(hspace = 0.75)\n"
   ]
  },
  {
   "cell_type": "code",
   "execution_count": null,
   "metadata": {},
   "outputs": [],
   "source": []
  },
  {
   "cell_type": "code",
   "execution_count": null,
   "metadata": {},
   "outputs": [],
   "source": []
  },
  {
   "cell_type": "code",
   "execution_count": null,
   "metadata": {},
   "outputs": [],
   "source": []
  },
  {
   "cell_type": "code",
   "execution_count": null,
   "metadata": {},
   "outputs": [],
   "source": [
    "def loadTADBoundary(filepath):\n",
    "    df = pd.read_csv(filepath, sep='\\t', header=None)\n",
    "    df.columns = ['phase', 'start', 'end', 'chrom']\n",
    "    df['phase'] = df['phase'].apply(lambda x: x.split(\"_\")[0])\n",
    "    return df\n",
    "\n",
    "def mergeAssembly(tad, assembly):\n",
    "    \n",
    "    tad['chrom'] = tad['chrom'].astype('str')\n",
    "    tad = pd.merge(left=tad, \n",
    "                   right=assembly, \n",
    "                   left_on='chrom', \n",
    "                   right_on='Chromosome')\n",
    "    \n",
    "    return tad\n",
    "\n",
    "\n",
    "\n",
    "tad = loadTADBoundary('F121_mESC_TADS.txt')\n",
    "tad = mergeAssembly(tad, assembly)\n",
    "\n",
    "# filter to chrom\n",
    "tad = tad[tad['RefSeq accession'] == chrom]\n",
    "\n",
    "# filter to phase\n",
    "phase = 'G1'\n",
    "tad = tad[tad['phase'] == phase]\n",
    "\n",
    "# add an approximate bin\n",
    "tad['binStart'] = np.ceil(tad['start'] / resolution).astype(int)\n",
    "tad['binEnd'] = np.ceil(tad['end'] / resolution).astype(int)\n",
    "\n",
    "tad.head()"
   ]
  },
  {
   "cell_type": "code",
   "execution_count": null,
   "metadata": {},
   "outputs": [],
   "source": [
    "alpha = 0.7\n",
    "\n",
    "labels = []\n",
    "plt.rcParams['figure.dpi'] = 200\n",
    "plt.rcParams['figure.figsize'] = 8, 3\n",
    "\n",
    "for i, window in enumerate(windows):\n",
    "    windowColumns = [x for x in insul_region.columns if str(window) in x]\n",
    "    \n",
    "    boundaryColumn = [x for x in windowColumns if 'is_boundary' in x][0]\n",
    "    \n",
    "    isBoundary = insul_region[insul_region[boundaryColumn] == True]\n",
    "    \n",
    "    label = f'{int(window/resolution)} Mb Window'\n",
    "    labels.append(label)\n",
    "    plt.scatter(x=isBoundary['start'], \n",
    "                y=[i]*len(isBoundary), \n",
    "                alpha=alpha,\n",
    "                s=20,\n",
    "                c=f\"C{i+1}\",\n",
    "#                 marker=\"|\",\n",
    "                marker=\".\",\n",
    "                label = label)\n",
    "\n",
    "\n",
    "plt.legend(bbox_to_anchor=(1.04,0.5), loc=\"center left\")\n",
    "ax = plt.gca()\n",
    "ax.set_ylim(-0.5, 4)\n",
    "\n",
    "for idx, row in tad.iterrows():\n",
    "    plt.axvline(x=row['start'], lw=1, ls='--', alpha=0.3)\n",
    "\n",
    "format_ticks(ax, y=False, rotate=False)\n",
    "\n",
    "y = list(range(len(windows)))\n",
    "plt.yticks(y, labels)\n",
    "    "
   ]
  },
  {
   "cell_type": "code",
   "execution_count": null,
   "metadata": {},
   "outputs": [],
   "source": [
    "insul_region.columns"
   ]
  },
  {
   "cell_type": "code",
   "execution_count": null,
   "metadata": {},
   "outputs": [],
   "source": []
  },
  {
   "cell_type": "code",
   "execution_count": null,
   "metadata": {},
   "outputs": [],
   "source": [
    "clr.bins()[10000]"
   ]
  },
  {
   "cell_type": "code",
   "execution_count": null,
   "metadata": {},
   "outputs": [],
   "source": [
    "tad['start'].max()"
   ]
  },
  {
   "cell_type": "code",
   "execution_count": null,
   "metadata": {},
   "outputs": [],
   "source": [
    "clr.binsize"
   ]
  },
  {
   "cell_type": "code",
   "execution_count": null,
   "metadata": {},
   "outputs": [],
   "source": []
  }
 ],
 "metadata": {
  "kernelspec": {
   "display_name": "Python 3",
   "language": "python",
   "name": "python3"
  },
  "language_info": {
   "codemirror_mode": {
    "name": "ipython",
    "version": 3
   },
   "file_extension": ".py",
   "mimetype": "text/x-python",
   "name": "python",
   "nbconvert_exporter": "python",
   "pygments_lexer": "ipython3",
   "version": "3.8.3"
  }
 },
 "nbformat": 4,
 "nbformat_minor": 4
}
