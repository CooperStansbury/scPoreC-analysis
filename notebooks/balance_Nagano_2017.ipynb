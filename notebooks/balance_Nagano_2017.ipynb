{
 "cells": [
  {
   "cell_type": "code",
   "execution_count": 1,
   "metadata": {},
   "outputs": [],
   "source": [
    "import pandas as pd\n",
    "import numpy as np\n",
    "import cooler\n",
    "\n",
    "import os\n",
    "import sys\n",
    "from importlib import reload"
   ]
  },
  {
   "cell_type": "code",
   "execution_count": 2,
   "metadata": {},
   "outputs": [
    {
     "data": {
      "text/plain": [
       "['/Diploid_1_CGTACTAG_AAGGAGTA_R1fastqgz',\n",
       " '/Diploid_1_CGTACTAG_ACTGCATA_R1fastqgz',\n",
       " '/Diploid_1_CGTACTAG_CGTCTAAT_R1fastqgz',\n",
       " '/Diploid_1_CGTACTAG_CTAAGCCT_R1fastqgz',\n",
       " '/Diploid_1_CGTACTAG_CTCTCTAT_R1fastqgz',\n",
       " '/Diploid_1_CGTACTAG_GTAAGGAG_R1fastqgz',\n",
       " '/Diploid_1_CGTACTAG_TATCCTCT_R1fastqgz',\n",
       " '/Diploid_1_CGTACTAG_TCTCTCCG_R1fastqgz',\n",
       " '/Diploid_1_TAAGGCGA_AAGGAGTA_R1fastqgz',\n",
       " '/Diploid_1_TAAGGCGA_CGTCTAAT_R1fastqgz']"
      ]
     },
     "execution_count": 2,
     "metadata": {},
     "output_type": "execute_result"
    }
   ],
   "source": [
    "filepath = f\"/nfs/turbo/umms-indikar/shared/projects/poreC/nagano_2017_data/nagano_1MB_raw.scool\"\n",
    "cellList = list(cooler.fileops.list_coolers(filepath))\n",
    "\n",
    "cellList[:10]"
   ]
  },
  {
   "cell_type": "code",
   "execution_count": 3,
   "metadata": {},
   "outputs": [
    {
     "name": "stdout",
     "output_type": "stream",
     "text": [
      "lenList=3882\n",
      "(0.00)\n"
     ]
    },
    {
     "name": "stderr",
     "output_type": "stream",
     "text": [
      "/home/cstansbu/.local/lib/python3.8/site-packages/cooler/balance.py:110: ConvergenceWarning: Iteration limit reached without convergence.\n",
      "  warnings.warn(\n"
     ]
    }
   ],
   "source": [
    "lenList = len(cellList)\n",
    "print(f\"{lenList=}\")\n",
    "\n",
    "balanceFilepath = f\"/nfs/turbo/umms-indikar/shared/projects/poreC/nagano_2017_data/nagano_1MB_raw_BALANCED.scool\"\n",
    "\n",
    "for i, cell in enumerate(cellList):\n",
    "    if (i/lenList ) % 1000 == 0:\n",
    "        print(f\"({i/lenList:.2f})\")\n",
    "    \n",
    "    clr = cooler.Cooler(f\"{balanceFilepath}::{cell}\")\n",
    "    bias, stats = cooler.balance_cooler(clr, store=True, rescale_marginals=True)"
   ]
  },
  {
   "cell_type": "code",
   "execution_count": null,
   "metadata": {},
   "outputs": [],
   "source": []
  }
 ],
 "metadata": {
  "kernelspec": {
   "display_name": "Python 3",
   "language": "python",
   "name": "python3"
  },
  "language_info": {
   "codemirror_mode": {
    "name": "ipython",
    "version": 3
   },
   "file_extension": ".py",
   "mimetype": "text/x-python",
   "name": "python",
   "nbconvert_exporter": "python",
   "pygments_lexer": "ipython3",
   "version": "3.8.3"
  }
 },
 "nbformat": 4,
 "nbformat_minor": 4
}
